{
  "nbformat": 4,
  "nbformat_minor": 0,
  "metadata": {
    "colab": {
      "provenance": []
    },
    "kernelspec": {
      "name": "python3",
      "display_name": "Python 3"
    },
    "language_info": {
      "name": "python"
    }
  },
  "cells": [
    {
      "cell_type": "markdown",
      "source": [
        "Converting the dataset from Falcons #user_promt #Assistant Format to Mistral/LLama \\<S>\\<INST> Format"
      ],
      "metadata": {
        "id": "Dt8NEf_I66EZ"
      }
    },
    {
      "cell_type": "code",
      "source": [
        "from google.colab import drive\n",
        "\n",
        "import json\n",
        "import pandas as pd"
      ],
      "metadata": {
        "id": "PKeFWi-h-NaD"
      },
      "execution_count": null,
      "outputs": []
    },
    {
      "cell_type": "code",
      "source": [
        "drive.mount('/content/drive/')\n",
        "word_to_remove = 'text:'"
      ],
      "metadata": {
        "id": "WV1dL84_-vRy"
      },
      "execution_count": null,
      "outputs": []
    },
    {
      "cell_type": "code",
      "source": [
        "with open('/content/drive/MyDrive/PROJECT2/valfalcondata.json', 'r') as file:\n",
        "\n",
        "    content = ''\n",
        "    content = file.read()\n",
        "\n",
        "\n",
        "\n",
        "\n",
        "\n",
        "# Perform replacements on the content\n",
        "modified_content = content.replace('{\"text\": ', '').replace('\"DistanceExtentDefinition\"}}}}\"}', '\"DistanceExtentDefinition\"}}}}\"')\n",
        "#print(modified_content)\n"
      ],
      "metadata": {
        "id": "AVOVr9wu-EKr"
      },
      "execution_count": null,
      "outputs": []
    },
    {
      "cell_type": "code",
      "source": [
        "modified_content = modified_content.replace('### user_promt:', \"<s>[INST]\").replace(\"### Assistant:\", \"[/INST]\").replace('\"DistanceExtentDefinition\"}}}}','\"DistanceExtentDefinition\"}}}}</s>')\n",
        "#print(modified_content)"
      ],
      "metadata": {
        "id": "5Snqgoe0-IZr"
      },
      "execution_count": null,
      "outputs": []
    },
    {
      "cell_type": "code",
      "source": [
        "\n",
        "output_filename = f'/content/drive/MyDrive/PROJECT2/ALLDATAmistral.txt'\n",
        "with open(output_filename, 'a') as output_file:\n",
        "    output_file.write(modified_content)"
      ],
      "metadata": {
        "id": "shga62m2_P-B"
      },
      "execution_count": null,
      "outputs": []
    }
  ]
}