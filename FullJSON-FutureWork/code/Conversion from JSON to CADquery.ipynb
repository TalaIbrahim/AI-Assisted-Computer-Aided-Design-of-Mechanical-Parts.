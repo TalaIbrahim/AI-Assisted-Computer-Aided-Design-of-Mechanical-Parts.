{
  "nbformat": 4,
  "nbformat_minor": 0,
  "metadata": {
    "colab": {
      "provenance": []
    },
    "kernelspec": {
      "name": "python3",
      "display_name": "Python 3"
    },
    "language_info": {
      "name": "python"
    }
  },
  "cells": [
    {
      "cell_type": "markdown",
      "source": [
        "#mechanical"
      ],
      "metadata": {
        "id": "WAG2WFKT52SP"
      }
    },
    {
      "cell_type": "code",
      "execution_count": null,
      "metadata": {
        "colab": {
          "base_uri": "https://localhost:8080/"
        },
        "id": "sGdp3Xz5QWa7",
        "outputId": "8c1844e9-96f6-42a7-a87d-0a1afee93fe3"
      },
      "outputs": [
        {
          "output_type": "stream",
          "name": "stdout",
          "text": [
            "Mounted at /content/drive\n"
          ]
        }
      ],
      "source": [
        "from google.colab import drive\n",
        "drive.mount('/content/drive')"
      ]
    },
    {
      "cell_type": "code",
      "source": [
        "import json\n",
        "\n",
        "# Replace 'your_file.json' with the actual filename\n",
        "file_path = '/content/drive/MyDrive/testfilled/shackle.json'\n",
        "\n",
        "with open(file_path, 'r') as json_file:\n",
        "    data = json.load(json_file)\n",
        "\n",
        "# Now 'data' contains the contents of your JSON file"
      ],
      "metadata": {
        "id": "OhOpktuJQm1N"
      },
      "execution_count": null,
      "outputs": []
    },
    {
      "cell_type": "code",
      "source": [
        "print(data)"
      ],
      "metadata": {
        "colab": {
          "base_uri": "https://localhost:8080/"
        },
        "id": "Kt-KKjgWQx1H",
        "outputId": "1b3c07ee-122d-453d-fcd6-c0070adb64e7"
      },
      "execution_count": null,
      "outputs": [
        {
          "output_type": "stream",
          "name": "stdout",
          "text": [
            "{'user_prompt': 'I need a ring with specific characteristics. Please provide the following details:', 'metadata': {'component_name': 'leaf spring shackle link'}, 'timeline': [{'index': 0, 'entity': 'entity1'}, {'index': 1, 'entity': 'entity2'}], 'entities': {'entity1': {'name': 'Sketch1', 'type': 'Sketch', 'points': {'origin': {'type': 'Point3D', 'x': 0.0, 'y': 0.0, 'z': 0.0}, 'point1': {'type': 'Point3D', 'x': 0, 'y': 29.951999999999998, 'z': 0}, 'point2': {'type': 'Point3D', 'x': 33.94, 'y': 29.951999999999998, 'z': 0}, 'point3': {'type': 'Point3D', 'x': 0, 'y': 0, 'z': 0}, 'point4': {'type': 'Point3D', 'x': 33.94, 'y': 0, 'z': 0}, 'point5': {'type': 'Point3D', 'x': 33.94, 'y': 59.903999999999996, 'z': 0}, 'point6': {'type': 'Point3D', 'x': 0, 'y': 59.903999999999996, 'z': 0}}, 'curves': {'curve1': {'type': 'SketchArc', 'construction_geom': False, 'fixed': False, 'fully_constrained': False, 'reference': False, 'visible': True, 'start_point': 'point6', 'end_point': 'point3', 'center_point': 'point1', 'radius': 29.951999999999998, 'reference_vector': {'type': 'Vector3D', 'x': 0.0, 'y': 1.0, 'z': 0.0, 'length': 1.0}, 'start_angle': 0, 'end_angle': 4.14}, 'curve2': {'type': 'SketchArc', 'construction_geom': False, 'fixed': False, 'fully_constrained': False, 'reference': False, 'visible': True, 'start_point': 'point4', 'end_point': 'point5', 'center_point': 'point2', 'radius': 29.951999999999998, 'reference_vector': {'type': 'Vector3D', 'x': 0.0, 'y': -1.0, 'z': 0.0, 'length': 1.0}, 'start_angle': 0, 'end_angle': 4.14}, 'curve3': {'type': 'SketchCircle', 'construction_geom': False, 'fixed': False, 'fully_constrained': False, 'reference': False, 'visible': True, 'center_point': 'point1', 'radius': 11.52}, 'curve4': {'type': 'SketchCircle', 'construction_geom': False, 'fixed': False, 'fully_constrained': False, 'reference': False, 'visible': True, 'center_point': 'point2', 'radius': 11.52}, 'curve5': {'type': 'SketchLine', 'construction_geom': False, 'fixed': False, 'fully_constrained': False, 'reference': False, 'visible': True, 'start_point': 'point3', 'end_point': 'point4'}, 'curve6': {'type': 'SketchLine', 'construction_geom': False, 'fixed': False, 'fully_constrained': False, 'reference': False, 'visible': True, 'start_point': 'point5', 'end_point': 'point6'}}, 'constraints': {'constraint1': {'curve_one': 'curve1', 'curve_two': 'curve3', 'type': 'ConcentricConstraint'}, 'constraint2': {'curve_one': 'curve5', 'curve_two': 'curve2', 'type': 'TangentConstraint'}, 'constraint3': {'entity': 'curve2', 'point': 'point5', 'type': 'CoincidentConstraint'}, 'constraint4': {'curve_one': 'curve6', 'curve_two': 'curve1', 'type': 'TangentConstraint'}}, 'profiles': {'profile1': {'loops': [{'is_outer': True, 'profile_curves': [{'type': 'Circle3D', 'center_point': {'type': 'Point3D', 'x': 0, 'y': 29.951999999999998, 'z': 0}, 'radius': 11.52, 'normal': {'type': 'Vector3D', 'x': 0.0, 'y': 0.0, 'z': 1.0, 'length': 1.0}, 'curve': 'curve3'}]}], 'properties': {'area': 416.92201769496285, 'centroid': {'type': 'Point3D', 'x': 1.2700000405311584, 'y': 0.0, 'z': 0.0}, 'perimeter': 72.38229473870884}}, 'profile2': {'loops': [{'is_outer': True, 'profile_curves': [{'type': 'Circle3D', 'center_point': {'type': 'Point3D', 'x': 33.94, 'y': 29.951999999999998, 'z': 0}, 'radius': 11.52, 'normal': {'type': 'Vector3D', 'x': 0.0, 'y': 0.0, 'z': 1.0, 'length': 1.0}, 'curve': 'curve4'}]}], 'properties': {'area': 416.92201769496285, 'centroid': {'type': 'Point3D', 'x': 6.858000218868256, 'y': 0.0, 'z': 0.0}, 'perimeter': 72.38229473870884}}, 'profile3': {'loops': [{'is_outer': False, 'profile_curves': [{'type': 'Circle3D', 'center_point': {'type': 'Point3D', 'x': 0, 'y': 29.951999999999998, 'z': 0}, 'radius': 11.52, 'normal': {'type': 'Vector3D', 'x': 0.0, 'y': 0.0, 'z': 1.0, 'length': 1.0}, 'curve': 'curve3'}]}, {'is_outer': False, 'profile_curves': [{'type': 'Circle3D', 'center_point': {'type': 'Point3D', 'x': 33.94, 'y': 29.951999999999998, 'z': 0}, 'radius': 11.52, 'normal': {'type': 'Vector3D', 'x': 0.0, 'y': 0.0, 'z': 1.0, 'length': 1.0}, 'curve': 'curve4'}]}, {'is_outer': True, 'profile_curves': [{'type': 'Arc3D', 'start_point': {'type': 'Point3D', 'x': 33.94, 'y': 0, 'z': 0}, 'end_point': {'type': 'Point3D', 'x': 33.94, 'y': 59.903999999999996, 'z': 0}, 'center_point': {'type': 'Point3D', 'x': 33.94, 'y': 29.951999999999998, 'z': 0}, 'radius': 29.951999999999998, 'normal': {'type': 'Vector3D', 'x': 0.0, 'y': 0.0, 'z': 1.0, 'length': 1.0}, 'start_angle': 0, 'end_angle': 4.14, 'reference_vector': {'type': 'Vector3D', 'x': 0.0, 'y': -1.0, 'z': 0.0, 'length': 1.0}, 'curve': 'curve2'}, {'type': 'Line3D', 'start_point': {'type': 'Point3D', 'x': 33.94, 'y': 59.903999999999996, 'z': 0}, 'end_point': {'type': 'Point3D', 'x': 0, 'y': 59.903999999999996, 'z': 0}, 'curve': 'curve6'}, {'type': 'Arc3D', 'start_point': {'type': 'Point3D', 'x': 0, 'y': 59.903999999999996, 'z': 0}, 'end_point': {'type': 'Point3D', 'x': 0, 'y': 0, 'z': 0}, 'center_point': {'type': 'Point3D', 'x': 0, 'y': 29.951999999999998, 'z': 0}, 'radius': 29.951999999999998, 'normal': {'type': 'Vector3D', 'x': 0.0, 'y': -0.0, 'z': 1.0, 'length': 1.0}, 'start_angle': 0, 'end_angle': 4.14, 'reference_vector': {'type': 'Vector3D', 'x': 0.0, 'y': 1.0, 'z': 0.0, 'length': 1.0}, 'curve': 'curve1'}, {'type': 'Line3D', 'start_point': {'type': 'Point3D', 'x': 0, 'y': 0, 'z': 0}, 'end_point': {'type': 'Point3D', 'x': 33.94, 'y': 0, 'z': 0}, 'curve': 'curve5'}]}], 'properties': {'area': 4017.69, 'centroid': {'type': 'Point3D', 'x': 4.064000129699707, 'y': 0.0, 'z': 0.0}, 'perimeter': 256.07}}}, 'transform': {'origin': {'type': 'Point3D', 'x': 0.0, 'y': 0.0, 'z': 0.0}, 'x_axis': {'type': 'Vector3D', 'x': 1.0, 'y': 0.0, 'z': 0.0, 'length': 1.0}, 'y_axis': {'type': 'Vector3D', 'x': 0.0, 'y': 0.0, 'z': -1.0, 'length': 1.0}, 'z_axis': {'type': 'Vector3D', 'x': 0.0, 'y': 1.0, 'z': 0.0, 'length': 1.0}}, 'reference_plane': {'type': 'ConstructionPlane', 'name': 'XZ', 'plane': {'type': 'Plane', 'origin': {'type': 'Point3D', 'x': 0.0, 'y': 0.0, 'z': 0.0}, 'normal': {'type': 'Vector3D', 'x': 0.0, 'y': 1.0, 'z': 0.0, 'length': 1.0}, 'u_direction': {'type': 'Vector3D', 'x': 0.0, 'y': 0.0, 'z': 1.0, 'length': 1.0}, 'v_direction': {'type': 'Vector3D', 'x': 1.0, 'y': 0.0, 'z': 0.0, 'length': 1.0}}}}, 'entity2': {'name': 'Extrude1', 'type': 'ExtrudeFeature', 'profiles': [{'profile': 'profile3', 'sketch': 'entity1'}], 'operation': 'NewBodyFeatureOperation', 'start_extent': {'type': 'ProfilePlaneStartDefinition'}, 'extent_type': 'OneSideFeatureExtentType', 'extent_one': {'distance': {'type': 'ModelParameter', 'value': 16.94, 'name': 'd522', 'role': 'AlongDistance'}, 'taper_angle': {'type': 'ModelParameter', 'value': 0.0, 'name': 'd523', 'role': 'TaperAngle'}, 'type': 'DistanceExtentDefinition'}}}}\n"
          ]
        }
      ]
    },
    {
      "cell_type": "code",
      "source": [
        "commands = \"import cadquery as cq\\n\\n\"\n",
        "\n",
        "commands +=\"import math \\n\"\n",
        "commands += \"# Initialize a new cadquery Workplane object\\n\"\n",
        "commands+=\"wp = cq.Workplane(\\\"XY\\\")\\n\\n\""
      ],
      "metadata": {
        "id": "Um4ASIR3R5Rb"
      },
      "execution_count": null,
      "outputs": []
    },
    {
      "cell_type": "code",
      "source": [
        "print(commands)"
      ],
      "metadata": {
        "colab": {
          "base_uri": "https://localhost:8080/"
        },
        "id": "X2Unr4baSC3U",
        "outputId": "0994490c-988a-43af-b32e-ac076e403303"
      },
      "execution_count": null,
      "outputs": [
        {
          "output_type": "stream",
          "name": "stdout",
          "text": [
            "import cadquery as cq\n",
            "\n",
            "\n",
            "import pandas as pd\n",
            "import cadquery as cq\n",
            "import gradio as gr\n",
            "import cadquery as cq\n",
            "from cadquery import exporters\n",
            "import math \n",
            "# Initialize a new cadquery Workplane object\n",
            "wp = cq.Workplane(\"XY\")\n",
            "\n",
            "\n"
          ]
        }
      ]
    },
    {
      "cell_type": "markdown",
      "source": [
        "## here"
      ],
      "metadata": {
        "id": "mnNgn8V3b7of"
      }
    },
    {
      "cell_type": "code",
      "source": [
        "type (data)"
      ],
      "metadata": {
        "colab": {
          "base_uri": "https://localhost:8080/"
        },
        "id": "UIryASD3AQ1A",
        "outputId": "5bd5d4db-dd5e-4bfa-b689-24ecf36d27db"
      },
      "execution_count": null,
      "outputs": [
        {
          "output_type": "execute_result",
          "data": {
            "text/plain": [
              "dict"
            ]
          },
          "metadata": {},
          "execution_count": 14
        }
      ]
    },
    {
      "cell_type": "code",
      "source": [
        "enitities = data.get(\"entities\", [])"
      ],
      "metadata": {
        "id": "w-AIfd1Gb9Ek"
      },
      "execution_count": null,
      "outputs": []
    },
    {
      "cell_type": "code",
      "source": [
        "print(enitities)"
      ],
      "metadata": {
        "colab": {
          "base_uri": "https://localhost:8080/"
        },
        "id": "xK6XqCChcIus",
        "outputId": "bab2ec20-68c3-421c-ca3f-c1ead02be802"
      },
      "execution_count": null,
      "outputs": [
        {
          "output_type": "stream",
          "name": "stdout",
          "text": [
            "{'entity1': {'name': 'Sketch1', 'type': 'Sketch', 'points': {'origin': {'type': 'Point3D', 'x': 0.0, 'y': 0.0, 'z': 0.0}, 'point1': {'type': 'Point3D', 'x': 0, 'y': 29.951999999999998, 'z': 0}, 'point2': {'type': 'Point3D', 'x': 33.94, 'y': 29.951999999999998, 'z': 0}, 'point3': {'type': 'Point3D', 'x': 0, 'y': 0, 'z': 0}, 'point4': {'type': 'Point3D', 'x': 33.94, 'y': 0, 'z': 0}, 'point5': {'type': 'Point3D', 'x': 33.94, 'y': 59.903999999999996, 'z': 0}, 'point6': {'type': 'Point3D', 'x': 0, 'y': 59.903999999999996, 'z': 0}}, 'curves': {'curve1': {'type': 'SketchArc', 'construction_geom': False, 'fixed': False, 'fully_constrained': False, 'reference': False, 'visible': True, 'start_point': 'point6', 'end_point': 'point3', 'center_point': 'point1', 'radius': 29.951999999999998, 'reference_vector': {'type': 'Vector3D', 'x': 0.0, 'y': 1.0, 'z': 0.0, 'length': 1.0}, 'start_angle': 0, 'end_angle': 4.14}, 'curve2': {'type': 'SketchArc', 'construction_geom': False, 'fixed': False, 'fully_constrained': False, 'reference': False, 'visible': True, 'start_point': 'point4', 'end_point': 'point5', 'center_point': 'point2', 'radius': 29.951999999999998, 'reference_vector': {'type': 'Vector3D', 'x': 0.0, 'y': -1.0, 'z': 0.0, 'length': 1.0}, 'start_angle': 0, 'end_angle': 4.14}, 'curve3': {'type': 'SketchCircle', 'construction_geom': False, 'fixed': False, 'fully_constrained': False, 'reference': False, 'visible': True, 'center_point': 'point1', 'radius': 11.52}, 'curve4': {'type': 'SketchCircle', 'construction_geom': False, 'fixed': False, 'fully_constrained': False, 'reference': False, 'visible': True, 'center_point': 'point2', 'radius': 11.52}, 'curve5': {'type': 'SketchLine', 'construction_geom': False, 'fixed': False, 'fully_constrained': False, 'reference': False, 'visible': True, 'start_point': 'point3', 'end_point': 'point4'}, 'curve6': {'type': 'SketchLine', 'construction_geom': False, 'fixed': False, 'fully_constrained': False, 'reference': False, 'visible': True, 'start_point': 'point5', 'end_point': 'point6'}}, 'constraints': {'constraint1': {'curve_one': 'curve1', 'curve_two': 'curve3', 'type': 'ConcentricConstraint'}, 'constraint2': {'curve_one': 'curve5', 'curve_two': 'curve2', 'type': 'TangentConstraint'}, 'constraint3': {'entity': 'curve2', 'point': 'point5', 'type': 'CoincidentConstraint'}, 'constraint4': {'curve_one': 'curve6', 'curve_two': 'curve1', 'type': 'TangentConstraint'}}, 'profiles': {'profile1': {'loops': [{'is_outer': True, 'profile_curves': [{'type': 'Circle3D', 'center_point': {'type': 'Point3D', 'x': 0, 'y': 29.951999999999998, 'z': 0}, 'radius': 11.52, 'normal': {'type': 'Vector3D', 'x': 0.0, 'y': 0.0, 'z': 1.0, 'length': 1.0}, 'curve': 'curve3'}]}], 'properties': {'area': 416.92201769496285, 'centroid': {'type': 'Point3D', 'x': 1.2700000405311584, 'y': 0.0, 'z': 0.0}, 'perimeter': 72.38229473870884}}, 'profile2': {'loops': [{'is_outer': True, 'profile_curves': [{'type': 'Circle3D', 'center_point': {'type': 'Point3D', 'x': 33.94, 'y': 29.951999999999998, 'z': 0}, 'radius': 11.52, 'normal': {'type': 'Vector3D', 'x': 0.0, 'y': 0.0, 'z': 1.0, 'length': 1.0}, 'curve': 'curve4'}]}], 'properties': {'area': 416.92201769496285, 'centroid': {'type': 'Point3D', 'x': 6.858000218868256, 'y': 0.0, 'z': 0.0}, 'perimeter': 72.38229473870884}}, 'profile3': {'loops': [{'is_outer': False, 'profile_curves': [{'type': 'Circle3D', 'center_point': {'type': 'Point3D', 'x': 0, 'y': 29.951999999999998, 'z': 0}, 'radius': 11.52, 'normal': {'type': 'Vector3D', 'x': 0.0, 'y': 0.0, 'z': 1.0, 'length': 1.0}, 'curve': 'curve3'}]}, {'is_outer': False, 'profile_curves': [{'type': 'Circle3D', 'center_point': {'type': 'Point3D', 'x': 33.94, 'y': 29.951999999999998, 'z': 0}, 'radius': 11.52, 'normal': {'type': 'Vector3D', 'x': 0.0, 'y': 0.0, 'z': 1.0, 'length': 1.0}, 'curve': 'curve4'}]}, {'is_outer': True, 'profile_curves': [{'type': 'Arc3D', 'start_point': {'type': 'Point3D', 'x': 33.94, 'y': 0, 'z': 0}, 'end_point': {'type': 'Point3D', 'x': 33.94, 'y': 59.903999999999996, 'z': 0}, 'center_point': {'type': 'Point3D', 'x': 33.94, 'y': 29.951999999999998, 'z': 0}, 'radius': 29.951999999999998, 'normal': {'type': 'Vector3D', 'x': 0.0, 'y': 0.0, 'z': 1.0, 'length': 1.0}, 'start_angle': 0, 'end_angle': 4.14, 'reference_vector': {'type': 'Vector3D', 'x': 0.0, 'y': -1.0, 'z': 0.0, 'length': 1.0}, 'curve': 'curve2'}, {'type': 'Line3D', 'start_point': {'type': 'Point3D', 'x': 33.94, 'y': 59.903999999999996, 'z': 0}, 'end_point': {'type': 'Point3D', 'x': 0, 'y': 59.903999999999996, 'z': 0}, 'curve': 'curve6'}, {'type': 'Arc3D', 'start_point': {'type': 'Point3D', 'x': 0, 'y': 59.903999999999996, 'z': 0}, 'end_point': {'type': 'Point3D', 'x': 0, 'y': 0, 'z': 0}, 'center_point': {'type': 'Point3D', 'x': 0, 'y': 29.951999999999998, 'z': 0}, 'radius': 29.951999999999998, 'normal': {'type': 'Vector3D', 'x': 0.0, 'y': -0.0, 'z': 1.0, 'length': 1.0}, 'start_angle': 0, 'end_angle': 4.14, 'reference_vector': {'type': 'Vector3D', 'x': 0.0, 'y': 1.0, 'z': 0.0, 'length': 1.0}, 'curve': 'curve1'}, {'type': 'Line3D', 'start_point': {'type': 'Point3D', 'x': 0, 'y': 0, 'z': 0}, 'end_point': {'type': 'Point3D', 'x': 33.94, 'y': 0, 'z': 0}, 'curve': 'curve5'}]}], 'properties': {'area': 4017.69, 'centroid': {'type': 'Point3D', 'x': 4.064000129699707, 'y': 0.0, 'z': 0.0}, 'perimeter': 256.07}}}, 'transform': {'origin': {'type': 'Point3D', 'x': 0.0, 'y': 0.0, 'z': 0.0}, 'x_axis': {'type': 'Vector3D', 'x': 1.0, 'y': 0.0, 'z': 0.0, 'length': 1.0}, 'y_axis': {'type': 'Vector3D', 'x': 0.0, 'y': 0.0, 'z': -1.0, 'length': 1.0}, 'z_axis': {'type': 'Vector3D', 'x': 0.0, 'y': 1.0, 'z': 0.0, 'length': 1.0}}, 'reference_plane': {'type': 'ConstructionPlane', 'name': 'XZ', 'plane': {'type': 'Plane', 'origin': {'type': 'Point3D', 'x': 0.0, 'y': 0.0, 'z': 0.0}, 'normal': {'type': 'Vector3D', 'x': 0.0, 'y': 1.0, 'z': 0.0, 'length': 1.0}, 'u_direction': {'type': 'Vector3D', 'x': 0.0, 'y': 0.0, 'z': 1.0, 'length': 1.0}, 'v_direction': {'type': 'Vector3D', 'x': 1.0, 'y': 0.0, 'z': 0.0, 'length': 1.0}}}}, 'entity2': {'name': 'Extrude1', 'type': 'ExtrudeFeature', 'profiles': [{'profile': 'profile3', 'sketch': 'entity1'}], 'operation': 'NewBodyFeatureOperation', 'start_extent': {'type': 'ProfilePlaneStartDefinition'}, 'extent_type': 'OneSideFeatureExtentType', 'extent_one': {'distance': {'type': 'ModelParameter', 'value': 16.94, 'name': 'd522', 'role': 'AlongDistance'}, 'taper_angle': {'type': 'ModelParameter', 'value': 0.0, 'name': 'd523', 'role': 'TaperAngle'}, 'type': 'DistanceExtentDefinition'}}}\n"
          ]
        }
      ]
    },
    {
      "cell_type": "code",
      "source": [
        "points = {}"
      ],
      "metadata": {
        "id": "7zLAE7cGenmL"
      },
      "execution_count": null,
      "outputs": []
    },
    {
      "cell_type": "code",
      "source": [
        "curves = {}"
      ],
      "metadata": {
        "id": "aljKHPM2fTQL"
      },
      "execution_count": null,
      "outputs": []
    },
    {
      "cell_type": "code",
      "source": [
        "profiles ={}"
      ],
      "metadata": {
        "id": "8zSi48wVlan-"
      },
      "execution_count": null,
      "outputs": []
    },
    {
      "cell_type": "code",
      "source": [
        "extruded_profiles=[]"
      ],
      "metadata": {
        "id": "HX8EjlS083kL"
      },
      "execution_count": null,
      "outputs": []
    },
    {
      "cell_type": "code",
      "source": [
        "for entity in data['entities']:\n",
        "    #print(data['entities'][entity])\n",
        "    if 'type' in data['entities'][entity]:\n",
        "        print(data['entities'][entity]['type'])\n",
        "\n",
        "        if data['entities'][entity]['type'] == 'Sketch':\n",
        "            #print('this is sketch')\n",
        "\n",
        "            #### points\n",
        "            if 'points' in data['entities'][entity]:\n",
        "                for point in data['entities'][entity]['points']:\n",
        "                 co_ord = {}\n",
        "                 co_ord['x'] = data['entities'][entity]['points'][point]['x']\n",
        "                 co_ord['y'] = data['entities'][entity]['points'][point]['y']\n",
        "                 co_ord['z'] = data['entities'][entity]['points'][point]['z']\n",
        "                 points[point] = co_ord\n",
        "\n",
        "            #### curves\n",
        "            if 'curves' in data['entities'][entity]:\n",
        "\n",
        "                for curve in data['entities'][entity]['curves']:\n",
        "                    curve_info = {}\n",
        "                    curve_type = data['entities'][entity]['curves'][curve]['type']\n",
        "                    if curve_type == 'SketchCircle':\n",
        "                      #print('circle')\n",
        "                      curve_info['type'] = 'circle'\n",
        "                      curve_info['radius'] = data['entities'][entity]['curves'][curve]['radius']\n",
        "                      curve_info['center'] = data['entities'][entity]['curves'][curve]['center_point']\n",
        "                      curves[curve] = curve_info\n",
        "                    elif curve_type == 'SketchArc':\n",
        "                      #print('arc')\n",
        "                      curve_info['type'] = 'arc'\n",
        "                      curve_info['radius'] = data['entities'][entity]['curves'][curve]['radius']\n",
        "                      curve_info['center'] = data['entities'][entity]['curves'][curve]['center_point']\n",
        "                      curve_info['start_angle'] = data['entities'][entity]['curves'][curve]['start_angle']\n",
        "                      curve_info['end_angle'] = data['entities'][entity]['curves'][curve]['end_angle']\n",
        "                      curve_info['start_point'] = data['entities'][entity]['curves'][curve]['start_point']\n",
        "                      curve_info['end_point'] = data['entities'][entity]['curves'][curve]['end_point']\n",
        "                      curves[curve] = curve_info\n",
        "                    elif curve_type == 'SketchLine'  :\n",
        "                      #print('line')\n",
        "                      curve_info['type'] = 'line'\n",
        "                      curve_info['start_point'] = data['entities'][entity]['curves'][curve]['start_point']\n",
        "                      curve_info['end_point'] = data['entities'][entity]['curves'][curve]['end_point']\n",
        "                      curves[curve] = curve_info\n",
        "\n",
        "            if 'profiles' in data['entities'][entity]:\n",
        "              for profile in data['entities'][entity]['profiles']:\n",
        "                #print(profile)\n",
        "                profile_info = {}\n",
        "                if 'loops' in data['entities'][entity]['profiles'][profile]:\n",
        "\n",
        "                  curvess = []\n",
        "                  for loop in data['entities'][entity]['profiles'][profile]['loops']:\n",
        "                    for i in range (len(loop['profile_curves'])):\n",
        "                     curvess.append(loop['profile_curves'][i]['curve'])\n",
        "                    #print(loop['profile_curves'][0]['curve'])\n",
        "                  profile_info['curves'] = curvess\n",
        "                  profiles[profile]= profile_info\n",
        "                    #if 'loops' in data['entities'][entity]['profiles'][profile]['loops']:\n",
        "                      #print('hoi')\n",
        "                    #for curves in data['entities'][entity]['profiles'][profile]['loops'][loop]['profile_curves']:\n",
        "                      #print(curves)\n",
        "\n",
        "\n",
        "\n",
        "        elif data['entities'][entity]['type'] =='ExtrudeFeature':\n",
        "          print('Extrudeeee')\n",
        "          profile_info={}\n",
        "          if 'profiles' in data['entities'][entity]:\n",
        "            for profile in data['entities'][entity]['profiles']:\n",
        "               profile_info['profile'] = profile['profile']\n",
        "          if 'extent_one' in data['entities'][entity]  :\n",
        "            profile_info['distance'] =data['entities'][entity]['extent_one']['distance']['value']\n",
        "            extruded_profiles.append(profile_info)\n",
        "            #print(data['entities'][entity]['extent_one']['distance']['value'])\n",
        "\n",
        "            #\n",
        "            #print(data['entities'][entity]['extent_one\n",
        "            #for profile in data['entities'][entity]['extent_one']:\n",
        "              #print(profile)\n",
        "\n",
        "\n",
        "#print(curves)\n",
        "print(profiles)\n",
        "print(extruded_profiles)"
      ],
      "metadata": {
        "colab": {
          "base_uri": "https://localhost:8080/"
        },
        "id": "DCSOIjGvcKd0",
        "outputId": "0c8a7941-f325-444c-a420-a8b504f5cf3a"
      },
      "execution_count": null,
      "outputs": [
        {
          "output_type": "stream",
          "name": "stdout",
          "text": [
            "Sketch\n",
            "ExtrudeFeature\n",
            "Extrudeeee\n",
            "{'profile1': {'curves': ['curve3']}, 'profile2': {'curves': ['curve4']}, 'profile3': {'curves': ['curve3', 'curve4', 'curve2', 'curve6', 'curve1', 'curve5']}}\n",
            "[{'profile': 'profile3', 'distance': 16.94}]\n"
          ]
        }
      ]
    },
    {
      "cell_type": "code",
      "source": [
        "print(curves)"
      ],
      "metadata": {
        "colab": {
          "base_uri": "https://localhost:8080/"
        },
        "id": "JfOOLrVVedGa",
        "outputId": "de3c68a4-a9dd-4333-8559-2ceee1e15133"
      },
      "execution_count": null,
      "outputs": [
        {
          "output_type": "stream",
          "name": "stdout",
          "text": [
            "{'curve1': {'type': 'arc', 'radius': 29.951999999999998, 'center': 'point1', 'start_angle': 0, 'end_angle': 4.14, 'start_point': 'point6', 'end_point': 'point3'}, 'curve2': {'type': 'arc', 'radius': 29.951999999999998, 'center': 'point2', 'start_angle': 0, 'end_angle': 4.14, 'start_point': 'point4', 'end_point': 'point5'}, 'curve3': {'type': 'circle', 'radius': 11.52, 'center': 'point1'}, 'curve4': {'type': 'circle', 'radius': 11.52, 'center': 'point2'}, 'curve5': {'type': 'line', 'start_point': 'point3', 'end_point': 'point4'}, 'curve6': {'type': 'line', 'start_point': 'point5', 'end_point': 'point6'}}\n"
          ]
        }
      ]
    },
    {
      "cell_type": "code",
      "source": [
        "print(points)"
      ],
      "metadata": {
        "colab": {
          "base_uri": "https://localhost:8080/"
        },
        "id": "480R3IOKBj2K",
        "outputId": "32079b51-6614-4c1d-9a7e-cb8611b96f2e"
      },
      "execution_count": null,
      "outputs": [
        {
          "output_type": "stream",
          "name": "stdout",
          "text": [
            "{'origin': {'x': 0.0, 'y': 0.0, 'z': 0.0}, 'point1': {'x': 0, 'y': 29.951999999999998, 'z': 0}, 'point2': {'x': 33.94, 'y': 29.951999999999998, 'z': 0}, 'point3': {'x': 0, 'y': 0, 'z': 0}, 'point4': {'x': 33.94, 'y': 0, 'z': 0}, 'point5': {'x': 33.94, 'y': 59.903999999999996, 'z': 0}, 'point6': {'x': 0, 'y': 59.903999999999996, 'z': 0}}\n"
          ]
        }
      ]
    },
    {
      "cell_type": "markdown",
      "source": [
        "## reverse"
      ],
      "metadata": {
        "id": "fEEx5332QV7-"
      }
    },
    {
      "cell_type": "code",
      "source": [
        "for p in extruded_profiles:\n",
        "   for c in profiles[p['profile']]['curves']:\n",
        "\n",
        "    print (curves[c]['type'])\n",
        "    if curves[c]['type'] == 'circle':\n",
        "      commands+= \"\\n# Draw Circle \\n\"\n",
        "      #print(points[curves[c]['center']]['x'])\n",
        "      commands+=(f\"{c} = wp.moveTo({points[curves[c]['center']]['x']},{points[curves[c]['center']]['y']},{points[curves[c]['center']]['z']} ).circle({curves[c]['radius']})\\n\")\n",
        "\n",
        "    if curves[c]['type'] == 'line'  :\n",
        "      commands+= \"\\n# Draw Line \\n\"\n",
        "      #print(curves[c]['start_point'])\n",
        "      commands+=(f\"{c}= wp.moveTo({points[curves[c]['start_point']]['x']},{points[curves[c]['start_point']]['y']},{points[curves[c]['start_point']]['z']}).lineTo({points[curves[c]['end_point']]['x']},{points[curves[c]['end_point']]['y']},{points[curves[c]['end_point']]['z']})\\n\")\n",
        "    if curves[c]['type'] == 'arc':\n",
        "\n",
        "      commands+= f\"\\n#Angles for {c}\\n\"\n",
        "      '''commands+= f\"Start_Angle_{c} =math.radians({curves[c]['start_angle']}) \\n\"\n",
        "      commands+= f\"End_Angle_{c} =math.radians({curves[c]['end_angle']}) \\n\"\n",
        "      commands+= \"\\n# Calculate start and end points using the radius and angles\\n\"\n",
        "      commands +=f\"start_point_{c} = ({curves[c]['radius']} * math.cos(Start_Angle_{c}), {curves[c]['radius']} * math.sin(Start_Angle_{c}))\\n\"\n",
        "      commands+= f\"end_point_{c} = ({curves[c]['radius']} * math.cos(End_Angle_{c}), {curves[c]['radius']} * math.sin(End_Angle_{c}))\\n\"\n",
        "\n",
        "      commands+= \"\\n# Draw Arc\\n\"'\n",
        "      commands+= f\"{c}=wp.moveTo(*start_point_{c}).radiusArc(end_point_{c}, -1 *{curves[c]['radius']})\" '''\n",
        "\n"
      ],
      "metadata": {
        "colab": {
          "base_uri": "https://localhost:8080/"
        },
        "id": "2MT3UhJLQf-F",
        "outputId": "f583f018-99b3-42a8-d1a0-ddbc63f86d29"
      },
      "execution_count": null,
      "outputs": [
        {
          "output_type": "stream",
          "name": "stdout",
          "text": [
            "circle\n",
            "circle\n",
            "arc\n",
            "line\n",
            "arc\n",
            "line\n"
          ]
        }
      ]
    },
    {
      "cell_type": "code",
      "source": [
        "print(commands)"
      ],
      "metadata": {
        "colab": {
          "base_uri": "https://localhost:8080/"
        },
        "id": "YXFNjxwTZvzG",
        "outputId": "48d3330e-2a69-41e8-ca16-69d06994aac1"
      },
      "execution_count": null,
      "outputs": [
        {
          "output_type": "stream",
          "name": "stdout",
          "text": [
            "import cadquery as cq\n",
            "\n",
            "import math \n",
            "# Initialize a new cadquery Workplane object\n",
            "wp = cq.Workplane(\"XY\")\n",
            "\n",
            "\n",
            "# Draw Circle \n",
            "curve3 = wp.moveTo(0,29.951999999999998,0 ).circle(11.52)\n",
            "\n",
            "# Draw Circle \n",
            "curve4 = wp.moveTo(33.94,29.951999999999998,0 ).circle(11.52)\n",
            "\n",
            "#Angles for curve2\n",
            "Start_Angle_curve2 =math.radians(0) \n",
            "End_Angle_curve2 =math.radians(4.14) \n",
            "\n",
            "# Calculate start and end points using the radius and angles\n",
            "start_point_curve2 = (29.951999999999998 * math.cos(Start_Angle_curve2), 29.951999999999998 * math.sin(Start_Angle_curve2))\n",
            "end_point_curve2 = (29.951999999999998 * math.cos(End_Angle_curve2), 29.951999999999998 * math.sin(End_Angle_curve2))\n",
            "\n",
            "# Draw Arc\n",
            "curve2=wp.moveTo(*start_point_curve2).radiusArc(end_point_curve2, -1 *29.951999999999998)\n",
            "# Draw Line \n",
            "curve6= wp.moveTo(33.94,59.903999999999996,0).lineTo(0,59.903999999999996,0)\n",
            "\n",
            "#Angles for curve1\n",
            "Start_Angle_curve1 =math.radians(0) \n",
            "End_Angle_curve1 =math.radians(4.14) \n",
            "\n",
            "# Calculate start and end points using the radius and angles\n",
            "start_point_curve1 = (29.951999999999998 * math.cos(Start_Angle_curve1), 29.951999999999998 * math.sin(Start_Angle_curve1))\n",
            "end_point_curve1 = (29.951999999999998 * math.cos(End_Angle_curve1), 29.951999999999998 * math.sin(End_Angle_curve1))\n",
            "\n",
            "# Draw Arc\n",
            "curve1=wp.moveTo(*start_point_curve1).radiusArc(end_point_curve1, -1 *29.951999999999998)\n",
            "# Draw Line \n",
            "curve5= wp.moveTo(0,0,0).lineTo(33.94,0,0)\n",
            "\n"
          ]
        }
      ]
    },
    {
      "cell_type": "code",
      "source": [],
      "metadata": {
        "id": "BiOlpdjxYu4_"
      },
      "execution_count": null,
      "outputs": []
    }
  ]
}