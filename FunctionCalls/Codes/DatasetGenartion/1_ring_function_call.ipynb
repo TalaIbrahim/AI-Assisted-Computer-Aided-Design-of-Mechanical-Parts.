{
  "nbformat": 4,
  "nbformat_minor": 0,
  "metadata": {
    "colab": {
      "provenance": []
    },
    "kernelspec": {
      "name": "python3",
      "display_name": "Python 3"
    },
    "language_info": {
      "name": "python"
    }
  },
  "cells": [
    {
      "cell_type": "markdown",
      "source": [
        "# Drive"
      ],
      "metadata": {
        "id": "d8LNbypg0qMK"
      }
    },
    {
      "cell_type": "code",
      "execution_count": null,
      "metadata": {
        "id": "WWW0GYFKuZuw"
      },
      "outputs": [],
      "source": [
        "from google.colab import drive\n"
      ]
    },
    {
      "cell_type": "code",
      "source": [
        "drive.mount('/content/drive/')\n"
      ],
      "metadata": {
        "id": "08j3S2-nuowQ",
        "colab": {
          "base_uri": "https://localhost:8080/"
        },
        "outputId": "278b45bc-e14e-4090-d8d9-963619582562"
      },
      "execution_count": null,
      "outputs": [
        {
          "output_type": "stream",
          "name": "stdout",
          "text": [
            "Mounted at /content/drive/\n"
          ]
        }
      ]
    },
    {
      "cell_type": "markdown",
      "source": [
        "# Dataset without values"
      ],
      "metadata": {
        "id": "v15ZA5bu1z0m"
      }
    },
    {
      "cell_type": "code",
      "source": [
        "# for eval\n",
        "ring_design_strings = [\n",
        "    \"Craft an innovative mechanical ring with an inner radius of {inner_radius}, an outer radius of {outer_radius}, and a height of {height} designed for both style and functionality.\",\n",
        "    \"Design a mechanical ring with modular components. Specify the inner radius of {inner_radius}, outer radius of {outer_radius}, and height of {height} for easy customization.\",\n",
        "    \"Create a detailed 3D model for a mechanical ring with intricate mechanisms. Specify the inner radius of {inner_radius}, outer radius of {outer_radius}, and height of {height} for accurate representation.\",\n",
        "    \"Develop a mechanical ring with moving cogs and gears. Provide the inner radius of {inner_radius}, outer radius of {outer_radius}, and height of {height} for a captivating design.\",\n",
        "    \"Design a precise mechanical ring with exact measurements for the inner radius of {inner_radius}, outer radius of {outer_radius}, and height of {height}, ensuring engineering accuracy.\",\n",
        "    \"Craft a mechanical ring with a minimalist yet functional design. Specify the inner radius of {inner_radius}, outer radius of {outer_radius}, and height of {height} for a sleek and modern look.\",\n",
        "    \"Create a mechanical ring inspired by industrial aesthetics. Provide the inner radius of {inner_radius}, outer radius of {outer_radius}, and height of {height} for an edgy and stylish design.\",\n",
        "    \"Craft a mechanical ring with a locking mechanism. Specify the inner radius of {inner_radius}, outer radius of {outer_radius}, and height of {height} for added security and uniqueness.\",\n",
        "    \"Develop a customizable mechanical ring with placeholders for inner radius {inner_radius} , outer radius {outer_radius}, and height {height} , allowing users to personalize the design.\",\n",
        "    \"Create a mechanical ring prototype with precise dimensions, including inner radius {inner_radius} , outer radius {outer_radius}, and height {height}, for testing and optimization.\",\n",
        "    \"Design an elegant mechanical ring with intricate details. Specify the inner radius of {inner_radius}, outer radius of {outer_radius}, and height of {height} for a sophisticated and functional accessory.\",\n",
        "    \"Craft a sleek mechanical ring with specified inner radius {inner_radius} , outer radius {outer_radius}, and height {height} for a minimalist yet stylish design.\",\n",
        "    \"Design a mechanical ring with precise dimensions. Specify the inner radius of {inner_radius}, outer radius of {outer_radius}, and height of {height} for a clean and modern look.\",\n",
        "    \"Create a 3D model for a mechanical ring, emphasizing exact inner radius {inner_radius} and outer radius {outer_radius}  measurements along with the height of {height} for simplicity and accuracy.\",\n",
        "    \"Develop a mechanical ring with a symmetrical design. Share the inner radius of {inner_radius}, outer radius of {outer_radius}, and height of {height} for a balanced and refined accessory.\",\n",
        "    \"Craft a mechanical ring with a geometric twist. Specify the inner radius of {inner_radius}, outer radius of {outer_radius}, and height of {height} to create an intriguing and straightforward design.\",\n",
        "    \"Design a precision-engineered mechanical ring with specified dimensions. Specify the inner radius of {inner_radius}, outer radius of {outer_radius}, and height of {height} for functionality and simplicity.\",\n",
        "    \"Create a customizable mechanical ring with Specify the inner radius of {inner_radius}, outer radius of {outer_radius}, and height of {height} to allow for personalization within defined parameters.\",\n",
        "    \"Develop a mechanical ring prototype with specific dimensions, including inner radius {inner_radius} , outer radius {outer_radius} , and height {height}, for testing and refinement.\",\n",
        "    \"Craft an innovative mechanical ring with an inner radius of {inner_radius}, an outer radius of {outer_radius}, and a height of {height} designed for both style and functionality.\",\n",
        "    \"Design a mechanical ring with modular components. Specify the inner radius of {inner_radius}, outer radius of {outer_radius}, and height of {height} for easy customization.\",\n",
        "    \"Create a detailed 3D model for a mechanical ring with intricate mechanisms. Specify the inner radius of {inner_radius}, outer radius of {outer_radius}, and height of {height} for accurate representation.\",\n",
        "    \"Develop a mechanical ring with moving cogs and gears. Provide the inner radius of {inner_radius}, outer radius of {outer_radius}, and height of {height} for a captivating design.\",\n",
        "    \"Design a precise mechanical ring with exact measurements for the inner radius of {inner_radius}, outer radius of {outer_radius}, and height of {height}, ensuring engineering accuracy.\",\n",
        "    \"Craft a mechanical ring with a minimalist yet functional design. Specify the inner radius of {inner_radius}, outer radius of {outer_radius}, and height of {height} for a sleek and modern look.\",\n",
        "    \"Create a mechanical ring inspired by industrial aesthetics. Provide the inner radius of {inner_radius}, outer radius of {outer_radius}, and height of {height} for an edgy and stylish design.\",\n",
        "    \"Craft a mechanical ring with a locking mechanism. Specify the inner radius of {inner_radius}, outer radius of {outer_radius}, and height of {height} for added security and uniqueness.\",\n",
        "    \"Develop a customizable mechanical ring with placeholders for inner radius {inner_radius} , outer radius {outer_radius}, and height {height} , allowing users to personalize the design.\",\n",
        "    \"Create a mechanical ring prototype with precise dimensions, including inner radius {inner_radius} , outer radius {outer_radius}, and height {height}, for testing and optimization.\",\n",
        "    \"Design an elegant mechanical ring with intricate details. Specify the inner radius of {inner_radius}, outer radius of {outer_radius}, and height of {height} for a sophisticated and functional accessory.\",\n",
        "    \"Craft a sleek mechanical ring with specified inner radius {inner_radius} , outer radius {outer_radius}, and height {height} for a minimalist yet stylish design.\",\n",
        "    \"Design a mechanical ring with precise dimensions. Specify the inner radius of {inner_radius}, outer radius of {outer_radius}, and height of {height} for a clean and modern look.\",\n",
        "    \"Create a 3D model for a mechanical ring, emphasizing exact inner radius {inner_radius} and outer radius {outer_radius}  measurements along with the height of {height} for simplicity and accuracy.\",\n",
        "    \"Develop a mechanical ring with a symmetrical design. Share the inner radius of {inner_radius}, outer radius of {outer_radius}, and height of {height} for a balanced and refined accessory.\",\n",
        "    \"Craft a mechanical ring with a geometric twist. Specify the inner radius of {inner_radius}, outer radius of {outer_radius}, and height of {height} to create an intriguing and straightforward design.\",\n",
        "    \"Design a precision-engineered mechanical ring with specified dimensions. Specify the inner radius of {inner_radius}, outer radius of {outer_radius}, and height of {height} for functionality and simplicity.\",\n",
        "    \"Create a customizable mechanical ring with Specify the inner radius of {inner_radius}, outer radius of {outer_radius}, and height of {height} to allow for personalization within defined parameters.\",\n",
        "    \"Develop a mechanical ring prototype with specific dimensions, including inner radius {inner_radius} , outer radius {outer_radius} , and height {height}, for testing and refinement.\"\n",
        "]"
      ],
      "metadata": {
        "id": "E0uTF6tTkDSD"
      },
      "execution_count": null,
      "outputs": []
    },
    {
      "cell_type": "code",
      "source": [
        "#For training\n",
        "ring_design_strings = [\n",
        "    \"Design a 3D model for a ring with an outer radius of {outer_radius}, inner radius of {inner_radius}, and a height of {height}.\",\n",
        "    \"Seeking a skilled designer to create a printable ring with an outer radius of {outer_radius}, inner radius of {inner_radius}, and a height of {height}.\",\n",
        "    \"Polished ring, inner radius {inner_radius}, outer radius {outer_radius}, height {height}.\",\n",
        "    \"Streamlined ring, inner radius {inner_radius}, outer radius {outer_radius}, height {height}.\",\n",
        "    \"Balanced ring, inner radius {inner_radius}, outer radius {outer_radius}, and height {height}?\",\n",
        "    \"Customizable ring, inner radius {inner_radius}, outer radius {outer_radius}, and height {height}?\",\n",
        "    \"Specify values: ring, inner radius {inner_radius}, outer radius {outer_radius}, and height {height}.\",\n",
        "    \"Design a ring, inner radius {inner_radius}, outer radius {outer_radius}, and height {height}?\",\n",
        "    \"Hi , Can you help me to create a ring with inner radius {inner_radius}, outer radius {outer_radius}, and height {height}?\",\n",
        "    \"Need a ring design with inner radius {inner_radius}, outer radius {outer_radius}, and height {height}?\",\n",
        "    \"Seeking a ring design with inner radius {inner_radius}, outer radius {outer_radius}, and height {height}?\",\n",
        "    \"Requesting a ring model with inner radius {inner_radius}, outer radius {outer_radius}, and height {height}?\",\n",
        "    \"Hello , Please draw me a ring with inner radius {inner_radius}, outer radius {outer_radius}, and height {height}?\",\n",
        "    \"Can you help me to create a ring with inner radius {inner_radius}, outer radius {outer_radius}, and height {height}?\",\n",
        "    \"Need a ring design with inner radius {inner_radius}, outer radius {outer_radius}, and height {height}\"\n",
        "\n",
        "]"
      ],
      "metadata": {
        "id": "efDGAEfGRV0I"
      },
      "execution_count": null,
      "outputs": []
    },
    {
      "cell_type": "code",
      "source": [
        "ring_design_strings = [\n",
        "    \"Design a 3D model for a ring with an outer radius of {outer_radius}, inner radius of {inner_radius}, and a height of {height}.\",\n",
        "    \"Seeking a skilled designer to create a 3D printable ring with an outer radius of {outer_radius}, inner radius of {inner_radius}, and a height of {height}.\",\n",
        "    \"Looking for a CAD expert to craft a ring model with an outer radius of {outer_radius}, inner radius of {inner_radius}, and a height of {height}.\",\n",
        "    \"Need a custom-designed ring model: outer radius {outer_radius}, inner radius of {inner_radius}, and height {height}.\",\n",
        "    \"Requesting a 3D model for a ring with an outer radius of {outer_radius}, inner radius of {inner_radius}, and a height of {height}.\",\n",
        "    \"Seeking a CAD designer proficient in jewelry design to create a ring model with an outer radius of {outer_radius}, inner radius of {inner_radius}, and a height of {height}.\",\n",
        "    \"Looking for a 3D printable ring design with an outer radius of {outer_radius}, inner radius of {inner_radius}, and a height of {height}.\",\n",
        "    \"Design needed: ring with an outer radius of {outer_radius}, inner radius of {inner_radius}, and height {height}.\",\n",
        "    \"Seeking a talented 3D modeler to create a ring with an outer radius of {outer_radius}, inner radius of {inner_radius}, and a height of {height}.\",\n",
        "    \"Requesting a CAD design for a ring with an outer radius of {outer_radius}, inner radius of {inner_radius}, and a height of {height}.\",\n",
        "    \"With a specific height of {height}, seeking a 3D model for a ring with an outer radius of {outer_radius} and inner radius of {inner_radius}.\",\n",
        "    \"Starting with an inner radius of {inner_radius}, looking for a ring design with an outer radius of {outer_radius} and a height of {height}.\",\n",
        "    \"Beginning from the outer radius of {outer_radius}, need a ring model with an inner radius of {inner_radius} and a specific height of {height}.\",\n",
        "    \"For a unique design, starting with an outer radius of {outer_radius}, seeking a ring with a height of {height} and an inner radius of {inner_radius}.\",\n",
        "    \"Beginning with a specific inner radius of {inner_radius}, in need of a ring with an outer radius of {outer_radius} and a height of {height}.\",\n",
        "    \"Starting with a designated height of {height}, looking for a ring design with an inner radius of {inner_radius} and an outer radius of {outer_radius}.\",\n",
        "    \"Requesting a ring model that begins with an outer radius of {outer_radius}, with a specific inner radius of {inner_radius} and a height of {height}.\",\n",
        "    \"Needing a ring design initiated from an inner radius of {inner_radius}, with an outer radius of {outer_radius} and a height of {height}.\",\n",
        "    \"Starting the design process from the height of {height}, seeking a ring with an inner radius of {inner_radius} and an outer radius of {outer_radius}.\",\n",
        "    \"From a specified outer radius of {outer_radius}, in need of a ring model with an inner radius of {inner_radius} and a distinct height of {height}.\",\n",
        "    \"Initiating the design process from a designated outer radius of {outer_radius}, seeking a ring with a specific height of {height} and an inner radius of {inner_radius}.\",\n",
        "    \"Starting with a precise height of {height}, in need of a ring design with an outer radius of {outer_radius} and an inner radius of {inner_radius}.\",\n",
        "    \"With a specified inner radius of {inner_radius}, seeking a ring model that encompasses an outer radius of {outer_radius} and a height of {height}.\",\n",
        "    \"From a particular height of {height}, needing a ring design with an inner radius of {inner_radius} and an outer radius of {outer_radius}.\",\n",
        "    \"Starting from a designated inner radius of {inner_radius}, seeking a ring with an outer radius of {outer_radius} and a specific height of {height}.\",\n",
        "    \"For a unique design, starting with a height of {height}, in need of a ring with an outer radius of {outer_radius} and an inner radius of {inner_radius}.\",\n",
        "    \"Commencing the design from an outer radius of {outer_radius}, seeking a ring with a specific inner radius of {inner_radius} and a height of {height}.\",\n",
        "    \"Beginning the design process with an inner radius of {inner_radius}, in need of a ring model with an outer radius of {outer_radius} and a designated height of {height}.\",\n",
        "    \"With a specific outer radius of {outer_radius}, seeking a ring design that encompasses an inner radius of {inner_radius} and a height of {height}.\",\n",
        "    \"Initiating the specifications with a height of {height}, in need of a ring with an outer radius of {outer_radius} and an inner radius of {inner_radius}.\",\n",
        "    \"Seeking a ring design where the sum of inner radius {inner_radius}, outer radius {outer_radius}, and height {height} create a balanced and elegant composition.\",\n",
        "    \"Looking for a ring model with the sum of inner radius {inner_radius}, outer radius {outer_radius}, and height {height} defining its overall aesthetic appeal.\",\n",
        "    \"Requesting a ring design where the sum of inner radius {inner_radius}, outer radius {outer_radius}, and height {height} harmoniously contribute to its structural integrity.\",\n",
        "    \"Seeking a creative approach to ring design where the combined values of inner radius {inner_radius}, outer radius {outer_radius}, and height {height} evoke a distinctive style.\",\n",
        "    \"Looking for a ring model that emphasizes the sum of inner radius {inner_radius}, outer radius {outer_radius}, and height {height} as a key design element.\",\n",
        "    \"Requesting a ring design where the total of inner radius {inner_radius}, outer radius {outer_radius}, and height {height} is integral to its visual and tactile appeal.\",\n",
        "    \"Seeking a ring model where the combined values of inner radius {inner_radius}, outer radius {outer_radius}, and height {height} create a unique and memorable design.\",\n",
        "    \"Looking for a design exploration where the sum of inner radius {inner_radius}, outer radius {outer_radius}, and height {height} influences the overall ring aesthetics.\",\n",
        "    \"Requesting a ring design that showcases a creative interplay among inner radius {inner_radius}, outer radius {outer_radius}, and height {height} to create a captivating piece.\",\n",
        "    \"Seeking a designer to craft a ring model where the collective values of inner radius {inner_radius}, outer radius {outer_radius}, and height {height} define its character and appeal.\",\n",
        "    \"Requesting a ring design that creatively combines inner radius {inner_radius}, outer radius {outer_radius}, and height {height} to reflect personalized elegance and style.\",\n",
        "    \"Seeking a ring model where the sum of inner radius {inner_radius}, outer radius {outer_radius}, and height {height} crafts a harmonious and visually striking composition.\",\n",
        "    \"Looking for a ring design where the interplay of inner radius {inner_radius}, outer radius {outer_radius}, and height {height} creates a seamless and refined aesthetic.\",\n",
        "    \"In need of a ring model that optimizes the relationship between inner radius {inner_radius}, outer radius {outer_radius}, and height {height} for an exquisite final product.\",\n",
        "    \"Seeking a creative exploration of inner radius {inner_radius}, outer radius {outer_radius}, and height {height} to redefine conventional ring design concepts.\",\n",
        "    \"Requesting a ring design where the synergy among inner radius {inner_radius}, outer radius {outer_radius}, and height {height} elevates the ring's uniqueness and allure.\",\n",
        "    \"Looking for a ring model that showcases the perfect balance between inner radius {inner_radius}, outer radius {outer_radius}, and height {height} for superior craftsmanship.\",\n",
        "    \"Seeking a design that intricately weaves inner radius {inner_radius}, outer radius {outer_radius}, and height {height} into an exceptional and bespoke ring concept.\",\n",
        "    \"Requesting a ring design where the sum of inner radius {inner_radius}, outer radius {outer_radius}, and height {height} embodies sophistication and individuality.\",\n",
        "    \"In need of a ring model that accentuates the interwoven elements of inner radius {inner_radius}, outer radius {outer_radius}, and height {height} for a captivating design statement.\",\n",
        "    \"Would it be possible to create a ring design incorporating inner radius {inner_radius}, outer radius {outer_radius}, and height {height} tailored for a unique touch?\",\n",
        "    \"I'm seeking a skilled designer who could craft a ring model considering inner radius {inner_radius}, outer radius {outer_radius}, and height {height} for a personalized design.\",\n",
        "    \"Could you assist in creating a ring design with attention to inner radius {inner_radius}, outer radius {outer_radius}, and height {height} for a distinct and elegant style?\",\n",
        "    \"Might I request your expertise in designing a ring model using inner radius {inner_radius}, outer radius {outer_radius}, and height {height} for a refined and exquisite look?\",\n",
        "    \"I'm hoping to collaborate on a ring design project focusing on inner radius {inner_radius}, outer radius {outer_radius}, and height {height} for a truly bespoke creation.\",\n",
        "    \"Would you be able to help in crafting a ring design featuring inner radius {inner_radius}, outer radius {outer_radius}, and height {height} to bring a unique vision to life?\",\n",
        "    \"I'm in search of a talented designer to assist with a ring model incorporating inner radius {inner_radius}, outer radius {outer_radius}, and height {height} for a personalized touch.\",\n",
        "    \"Might I kindly request your expertise in creating a ring design focusing on inner radius {inner_radius}, height {height}, and outer radius {outer_radius} to bring a unique vision to life?\",\n",
        "    \"I'm hoping to collaborate on a ring design project considering outer radius {outer_radius}, inner radius {inner_radius}, and height {height} for a truly bespoke and elegant creation.\",\n",
        "    \"Would you be able to help in designing a ring featuring height {height}, inner radius {inner_radius}, and outer radius {outer_radius} to achieve a distinct and refined appeal?\",\n",
        "    \"Could you lend your creative expertise to craft a ring model with attention to outer radius {outer_radius}, height {height}, and inner radius {inner_radius} for a personalized touch?\",\n",
        "    \"I'm in search of a talented designer to assist with a ring design considering an inner radius of {inner_radius}, an outer radius of {outer_radius}, and a height of {height} for a bespoke and elegant result.\",\n",
        "    \"Might I request your expertise in creating a ring design with careful consideration of a height of {height}, an inner radius of {inner_radius}, and an outer radius of {outer_radius} for a distinctive appeal?\",\n",
        "    \"Would it be possible to collaborate on a ring design project focusing on a height of {height}, an outer radius of {outer_radius}, and an inner radius of {inner_radius} for a refined and unique outcome?\",\n",
        "    \"Could you assist in crafting a ring design that balances an inner radius of {inner_radius}, an outer radius of {outer_radius}, and a height of {height} to achieve a personalized and elegant style?\",\n",
        "    \"I'm hoping to create a ring model considering an outer radius of {outer_radius}, a height of {height}, and an inner radius of {inner_radius} for a truly bespoke and sophisticated design.\",\n",
        "    \"Could you help in designing a ring with an inner radius measuring {inner_radius}, an outer radius of {outer_radius}, and a height measuring {height}? Seeking a unique design perspective.\",\n",
        "    \"I'm looking to commission a ring design with specified dimensions: an outer radius of {outer_radius}, an inner radius of {inner_radius}, and a height of {height}. Can you assist?\",\n",
        "    \"Seeking expertise in crafting a ring that embodies precision: an inner radius at {inner_radius}, an outer radius at {outer_radius}, and a height of {height}. Your creative input is valued.\",\n",
        "    \"In need of a ring design showcasing craftsmanship: an outer radius at {outer_radius}, an inner radius at {inner_radius}, and a height of {height}. Your expertise would be appreciated.\",\n",
        "    \"Requesting a personalized ring model: an inner radius of {inner_radius}, an outer radius of {outer_radius}, and a specified height of {height}. Seeking a unique touch.\",\n",
        "    \"Exploring a ring design concept that balances dimensions: an outer radius of {outer_radius}, an inner radius at {inner_radius}, and a specified height of {height}. Seeking your design expertise.\",\n",
        "    \"Looking for a ring design featuring specific measurements: an inner radius {inner_radius}, an outer radius {outer_radius}, and a height {height}. Your creative insights are welcomed.\",\n",
        "    \"Seeking a skilled designer to create a ring model with exact specifications: an outer radius {outer_radius}, an inner radius {inner_radius}, and a height {height}. Your attention to detail is valued.\"\n",
        "]\n",
        "ring_design_strings += [\n",
        "    \"In need of a ring design emphasizing precision: an inner radius {inner_radius}, an outer radius {outer_radius}, and a height {height}. Your expertise in design is much sought after.\",\n",
        "    \"Requesting a unique ring model: outer radius {outer_radius}, inner radius {inner_radius}, and height {height}. Looking forward to your creative input and expertise.\",\n",
        "    \"Seeking a ring design that harmonizes distinctive measurements: an inner radius of {inner_radius}, an outer radius of {outer_radius}, and a height measuring {height}. Your creative vision is welcomed.\",\n",
        "    \"In need of a ring model showcasing precision: an outer radius set at {outer_radius}, an inner radius at {inner_radius}, and a specified height of {height}. Your attention to detail is valued.\",\n",
        "    \"Requesting a personalized ring design: an inner radius of {inner_radius}, an outer radius measuring {outer_radius}, and a height precisely at {height}. Seeking a unique and refined touch.\",\n",
        "    \"Seeking a skilled designer to create a ring model with exact specifications: an outer radius {outer_radius}, an inner radius {inner_radius}, and a height {height}. Your expertise is much appreciated.\",\n",
        "    \"Looking for a ring design featuring specific measurements: an inner radius at {inner_radius}, an outer radius at {outer_radius}, and a height precisely set at {height}. Your creative insights are valued.\",\n",
        "    \"Requesting a unique ring model: outer radius {outer_radius}, inner radius {inner_radius}, and height {height}. Looking forward to your creative input and expertise.\",\n",
        "    \"In need of a ring design emphasizing precision: an inner radius {inner_radius}, an outer radius {outer_radius}, and a height {height}. Your expertise in design is much sought after.\",\n",
        "    \"Seeking a ring design reflecting balance: an outer radius {outer_radius}, an inner radius {inner_radius}, and a height {height}. Your creative craftsmanship is valued.\",\n",
        "    \"Looking to commission a ring model with exact specifications: an outer radius at {outer_radius}, an inner radius measuring {inner_radius}, and a specified height of {height}. Your attention to detail is welcomed.\",\n",
        "    \"Requesting a ring design that balances elegance and precision: an inner radius {inner_radius}, an outer radius {outer_radius}, and a height {height}. Your creative expertise is welcomed.\",\n",
        "    \"Seeking a ring design expert to create a masterpiece with an outer radius of {outer_radius}, an inner radius of {inner_radius}, and a meticulous height of {height}. Your creative touch is valued.\",\n",
        "    \"In need of a ring model that perfectly balances specifications: an outer radius {outer_radius}, an inner radius {inner_radius}, and a carefully measured height of {height}. Your attention to detail is appreciated.\",\n",
        "    \"Requesting a personalized ring design: an inner radius {inner_radius}, an outer radius {outer_radius}, and a specific height of {height}. Seeking a design that reflects individual elegance.\",\n",
        "    \"Seeking a skilled designer to craft a ring model: an outer radius {outer_radius}, an inner radius {inner_radius}, and a precise height {height}. Your expertise in design is much welcomed.\",\n",
        "    \"Looking to commission a ring model reflecting exact measurements: an inner radius at {inner_radius}, an outer radius {outer_radius}, and a specified height of {height}. Your creative insights are valued.\",\n",
        "    \"Requesting a unique ring design: outer radius {outer_radius}, inner radius {inner_radius}, and height {height}. Looking forward to your artistic interpretation and expertise.\",\n",
        "    \"In need of a ring design emphasizing precision and elegance: an inner radius {inner_radius}, an outer radius {outer_radius}, and a carefully determined height {height}. Your creative craftsmanship is sought after.\",\n",
        "    \"Seeking a ring model reflecting balance and sophistication: an outer radius {outer_radius}, an inner radius {inner_radius}, and a carefully defined height {height}. Your creative vision is appreciated.\",\n",
        "    \"Looking for a ring design expert to bring specifications to life: an outer radius at {outer_radius}, an inner radius measuring {inner_radius}, and a specified height of {height}. Your attention to detail is welcomed.\",\n",
        "    \"Requesting a ring design that harmonizes dimensions: an inner radius of {inner_radius}, an outer radius at {outer_radius}, and a height carefully set at {height}. Your artistic expertise is much anticipated.\",\n",
        "    \"Please craft me a 3D ring with an outer radius of {outer_radius}, an inner radius of {inner_radius}, and a height of {height}.\",\n",
        "    \"Design a mechanical ring with an outer radius of {outer_radius}, an inner radius of {inner_radius}, and a height of {height}.\",\n",
        "    \"Create a 3D model for a custom ring with an outer radius of {outer_radius}, an inner radius of {inner_radius}, and a height of {height}.\",\n",
        "    \"Craft a precision mechanical ring with an outer radius of {outer_radius}, an inner radius of {inner_radius}, and a height of {height} for optimal functionality.\",\n",
        "    \"Design a mechanical ring with intricate gears. Specify the inner radius of {inner_radius}, outer radius of {outer_radius}, and height of {height} for a seamless operation.\",\n",
        "    \"Create a 3D model for a mechanical ring with precise dimensions for a sleek and efficient design. Specify the inner radius of {inner_radius}, outer radius of {outer_radius}, and height of {height}.\",\n",
        "    \"Develop a detailed blueprint for a mechanical ring, including the inner radius of {inner_radius}, outer radius of {outer_radius}, and height of {height} for engineering precision.\",\n",
        "    \"Craft a mechanical ring with hidden compartments and moving parts. Provide the inner radius of {inner_radius}, outer radius of {outer_radius}, and height of {height} for a sophisticated touch.\",\n",
        "    \"Design a high-precision mechanical ring with specified inner radius {inner_radius}, outer radius {outer_radius}, and height {height} for optimal performance.\",\n",
        "    \"Create a customizable mechanical ring with placeholders for inner radius {inner_radius} , outer radius {outer_radius} , and height {height}, allowing for personalized adjustments.\",\n",
        "    \"Develop a mechanical ring prototype with specific dimensions, including inner radius {inner_radius} , outer radius {outer_radius} , and height {height}, for testing and refinement.\"\n",
        "]\n",
        "ring_design_strings += [\n",
        "    \"Craft an innovative mechanical ring with an inner radius of {inner_radius}, an outer radius of {outer_radius}, and a height of {height} designed for both style and functionality.\",\n",
        "    \"Design a mechanical ring with modular components. Specify the inner radius of {inner_radius}, outer radius of {outer_radius}, and height of {height} for easy customization.\",\n",
        "    \"Create a detailed 3D model for a mechanical ring with intricate mechanisms. Specify the inner radius of {inner_radius}, outer radius of {outer_radius}, and height of {height} for accurate representation.\",\n",
        "    \"Develop a mechanical ring with moving cogs and gears. Provide the inner radius of {inner_radius}, outer radius of {outer_radius}, and height of {height} for a captivating design.\",\n",
        "    \"Design a precise mechanical ring with exact measurements for the inner radius of {inner_radius}, outer radius of {outer_radius}, and height of {height}, ensuring engineering accuracy.\",\n",
        "    \"Craft a mechanical ring with a minimalist yet functional design. Specify the inner radius of {inner_radius}, outer radius of {outer_radius}, and height of {height} for a sleek and modern look.\",\n",
        "    \"Create a mechanical ring inspired by industrial aesthetics. Provide the inner radius of {inner_radius}, outer radius of {outer_radius}, and height of {height} for an edgy and stylish design.\",\n",
        "    \"Craft a mechanical ring with a locking mechanism. Specify the inner radius of {inner_radius}, outer radius of {outer_radius}, and height of {height} for added security and uniqueness.\",\n",
        "    \"Develop a customizable mechanical ring with placeholders for inner radius {inner_radius} , outer radius {outer_radius}, and height {height} , allowing users to personalize the design.\",\n",
        "    \"Create a mechanical ring prototype with precise dimensions, including inner radius {inner_radius} , outer radius {outer_radius}, and height {height}, for testing and optimization.\",\n",
        "    \"Design an elegant mechanical ring with intricate details. Specify the inner radius of {inner_radius}, outer radius of {outer_radius}, and height of {height} for a sophisticated and functional accessory.\",\n",
        "    \"Craft a sleek mechanical ring with specified inner radius {inner_radius} , outer radius {outer_radius}, and height {height} for a minimalist yet stylish design.\",\n",
        "    \"Design a mechanical ring with precise dimensions. Specify the inner radius of {inner_radius}, outer radius of {outer_radius}, and height of {height} for a clean and modern look.\",\n",
        "    \"Create a 3D model for a mechanical ring, emphasizing exact inner radius {inner_radius} and outer radius {outer_radius}  measurements along with the height of {height} for simplicity and accuracy.\",\n",
        "    \"Develop a mechanical ring with a symmetrical design. Share the inner radius of {inner_radius}, outer radius of {outer_radius}, and height of {height} for a balanced and refined accessory.\",\n",
        "    \"Craft a mechanical ring with a geometric twist. Specify the inner radius of {inner_radius}, outer radius of {outer_radius}, and height of {height} to create an intriguing and straightforward design.\",\n",
        "    \"Design a precision-engineered mechanical ring with specified dimensions. Specify the inner radius of {inner_radius}, outer radius of {outer_radius}, and height of {height} for functionality and simplicity.\",\n",
        "    \"Create a customizable mechanical ring with Specify the inner radius of {inner_radius}, outer radius of {outer_radius}, and height of {height} to allow for personalization within defined parameters.\",\n",
        "    \"Develop a mechanical ring prototype with specific dimensions, including inner radius {inner_radius} , outer radius {outer_radius} , and height {height}, for testing and refinement.\",\n",
        "    \"Craft an innovative mechanical ring with an inner radius of {inner_radius}, an outer radius of {outer_radius}, and a height of {height} designed for both style and functionality.\",\n",
        "    \"Design a mechanical ring with modular components. Specify the inner radius of {inner_radius}, outer radius of {outer_radius}, and height of {height} for easy customization.\",\n",
        "    \"Create a detailed 3D model for a mechanical ring with intricate mechanisms. Specify the inner radius of {inner_radius}, outer radius of {outer_radius}, and height of {height} for accurate representation.\",\n",
        "    \"Develop a mechanical ring with moving cogs and gears. Provide the inner radius of {inner_radius}, outer radius of {outer_radius}, and height of {height} for a captivating design.\",\n",
        "    \"Design a precise mechanical ring with exact measurements for the inner radius of {inner_radius}, outer radius of {outer_radius}, and height of {height}, ensuring engineering accuracy.\",\n",
        "    \"Craft a mechanical ring with a minimalist yet functional design. Specify the inner radius of {inner_radius}, outer radius of {outer_radius}, and height of {height} for a sleek and modern look.\",\n",
        "    \"Create a mechanical ring inspired by industrial aesthetics. Provide the inner radius of {inner_radius}, outer radius of {outer_radius}, and height of {height} for an edgy and stylish design.\",\n",
        "    \"Craft a mechanical ring with a locking mechanism. Specify the inner radius of {inner_radius}, outer radius of {outer_radius}, and height of {height} for added security and uniqueness.\",\n",
        "    \"Develop a customizable mechanical ring with placeholders for inner radius {inner_radius} , outer radius {outer_radius}, and height {height} , allowing users to personalize the design.\",\n",
        "    \"Create a mechanical ring prototype with precise dimensions, including inner radius {inner_radius} , outer radius {outer_radius}, and height {height}, for testing and optimization.\",\n",
        "    \"Design an elegant mechanical ring with intricate details. Specify the inner radius of {inner_radius}, outer radius of {outer_radius}, and height of {height} for a sophisticated and functional accessory.\",\n",
        "    \"Craft a sleek mechanical ring with specified inner radius {inner_radius} , outer radius {outer_radius}, and height {height} for a minimalist yet stylish design.\",\n",
        "    \"Design a mechanical ring with precise dimensions. Specify the inner radius of {inner_radius}, outer radius of {outer_radius}, and height of {height} for a clean and modern look.\",\n",
        "    \"Create a 3D model for a mechanical ring, emphasizing exact inner radius {inner_radius} and outer radius {outer_radius}  measurements along with the height of {height} for simplicity and accuracy.\",\n",
        "    \"Develop a mechanical ring with a symmetrical design. Share the inner radius of {inner_radius}, outer radius of {outer_radius}, and height of {height} for a balanced and refined accessory.\",\n",
        "    \"Craft a mechanical ring with a geometric twist. Specify the inner radius of {inner_radius}, outer radius of {outer_radius}, and height of {height} to create an intriguing and straightforward design.\",\n",
        "    \"Design a precision-engineered mechanical ring with specified dimensions. Specify the inner radius of {inner_radius}, outer radius of {outer_radius}, and height of {height} for functionality and simplicity.\",\n",
        "    \"Create a customizable mechanical ring with Specify the inner radius of {inner_radius}, outer radius of {outer_radius}, and height of {height} to allow for personalization within defined parameters.\",\n",
        "    \"Develop a mechanical ring prototype with specific dimensions, including inner radius {inner_radius} , outer radius {outer_radius} , and height {height}, for testing and refinement.\"\n",
        "]\n",
        "ring_design_strings += [\n",
        "    \"Design a customizable mechanical ring with placeholders. Allowing wearers to tailor the design to their preferences by specifying the inner radius of {inner_radius}, outer radius of {outer_radius}, and height of {height}.\",\n",
        "    \"Craft a mechanical ring with specific creation of a classic and timeless accessory by specifying the inner radius of {inner_radius}, outer radius of {outer_radius}, and height of {height}.\",\n",
        "    \"Create a 3D model for a precision-engineered mechanical ring, specifying the inner radius of {inner_radius}, outer radius of {outer_radius}, and height of {height} for a streamlined look.\",\n",
        "    \"Design a mechanical ring with equal inner radius  {inner_radius} and outer radius {outer_radius} , and a specified height. Achieve a balanced and harmonious design by specifying the height of {height}.\",\n",
        "    \"Craft a customizable mechanical ring with placeholders. Allow wearers to personalize within defined parameters by specifying the inner radius of {inner_radius}, outer radius of {outer_radius}, and height of {height}.\",\n",
        "    \"Develop a mechanical ring with a straightforward design. Create an accessory that combines simplicity with elegance by specifying the inner radius of {inner_radius}, outer radius of {outer_radius}, and height of {height}.\",\n",
        "    \"Design a precision-engineered mechanical ring with specified inner and outer dimensions, emphasizing a clean and polished appearance. Specify the inner radius of {inner_radius}, outer radius of {outer_radius}, and height of {height}.\",\n",
        "    \"Craft a sleek mechanical ring with specified creation of a minimalist yet stylish design by specifying the inner radius of {inner_radius}, outer radius of {outer_radius}, and height of {height}.\",\n",
        "    \"Design a mechanical ring with precise dimensions. Specify the inner radius of {inner_radius}, outer radius of {outer_radius}, and height of {height} for a clean and modern look.\",\n",
        "    \"Create a 3D model for a mechanical ring, emphasizing exact inner radius {inner_radius} and outer radius {outer_radius}  measurements along with the height of {height} for simplicity and accuracy.\",\n",
        "    \"Develop a mechanical ring with a symmetrical design. Share the inner radius of {inner_radius}, outer radius of {outer_radius}, and height of {height} for a balanced and refined accessory.\",\n",
        "    \"Craft a mechanical ring with a geometric twist. Specify the inner radius of {inner_radius}, outer radius of {outer_radius}, and height of {height} to create an intriguing and straightforward design.\",\n",
        "    \"Design a precision-engineered mechanical ring with specified dimensions, focusing on functionality and simplicity. Specify the inner radius of {inner_radius}, outer radius of {outer_radius}, and height of {height}.\",\n",
        "    \"Please craft a sleek mechanical ring with specific dimensions for a minimalist yet stylish design. Specify the inner radius of {inner_radius}, outer radius of {outer_radius}, and height of {height}.\",\n",
        "    \"I kindly request a mechanical ring design with precise dimensions. Could you specify the inner radius of {inner_radius}, outer radius of {outer_radius}, and height of {height} for a clean and modern look?\",\n",
        "    \"Would you please create a 3D model for a mechanical ring, emphasizing exact inner radius {inner_radius} and outer radius {outer_radius}  measurements along with the height of {height} for simplicity and accuracy?\",\n",
        "    \"I would appreciate your expertise in developing a mechanical ring with a symmetrical design. Could you please share the inner radius of {inner_radius}, outer radius of {outer_radius}, and height of {height} for a balanced and refined accessory?\",\n",
        "    \"Kindly craft a mechanical ring with a geometric twist. I'd appreciate it if you could specify the inner radius of {inner_radius}, outer radius of {outer_radius}, and height of {height} to create an intriguing and straightforward design.\",\n",
        "    \"I kindly request a precision-engineered mechanical ring with specified dimensions, focusing on functionality and simplicity. Specify the inner radius of {inner_radius}, outer radius of {outer_radius}, and height of {height}.\",\n",
        "    \"Could you please create a customizable mechanical ring with placeholders for inner radius {inner_radius} , outer radius{outer_radius}, and height {height}? This would allow for personalization within defined parameters.\",\n",
        "    \"Your assistance in crafting a mechanical ring with a clean and polished look would be greatly appreciated. Could you specify the inner radius of {inner_radius}, outer radius of {outer_radius}, and height of {height} for an accessory that exudes sophistication?\",\n",
        "    \"I would be grateful if you could develop a 3D model for a mechanical ring with equal inner radius {inner_radius} and outer radius {outer_radius} , emphasizing a simple yet timeless design. Specify the height of {height}.\",\n",
        "    \"Kindly design a mechanical ring with specific measurements and height to achieve a harmonious and well-proportioned look. Specify the inner radius of {inner_radius}, outer radius of {outer_radius}, and height of {height}.\",\n",
        "    \"Your expertise in crafting a precision mechanical ring with specified specifications for a subtle yet impactful accessory would be greatly valued. Specify the inner radius of {inner_radius}, outer radius of {outer_radius}, and height of {height}.\",\n",
        "    \"I appreciate your skill in creating a mechanical ring with concentric circles. Could you please share the inner radius of {inner_radius}, outer radius of {outer_radius}, and height of {height} for a visually striking and straightforward design?\",\n",
        "    \"Could you please develop a 3D model for a mechanical ring with equal inner radius {inner_radius} and outer radius {outer_radius} dimensions? Specifying the height of {height} for a sleek and uniform appearance would be greatly appreciated.\",\n",
        "    \"I kindly request a design for a customizable mechanical ring with placeholders for some values, allowing wearers to tailor the design to their preferences. Specify the inner radius of {inner_radius}, outer radius of {outer_radius}, and height of {height}.\",\n",
        "    \"Would you please craft a mechanical ring with specific inner radius of {inner_radius}, outer radius of {outer_radius}, and height of {height} for a classic and timeless accessory?\",\n",
        "    \"I appreciate your expertise in developing a 3D model for a precision-engineered mechanical ring. Focusing on exact inner radius of {inner_radius} and outer radius of {outer_radius} dimensions and height of {height} for a streamlined look would be fantastic.\",\n",
        "    \"Could you please design a mechanical ring with equal inner radius of {inner_radius} and outer radius of {outer_radius}, and a specified height of {height}, for a balanced and harmonious appearance?\",\n",
        "    \"I kindly request a customizable mechanical ring with placeholders for dimensions, allowing wearers to personalize within defined parameters. Specify the inner radius of {inner_radius}, outer radius of {outer_radius}, and height of {height}.\",\n",
        "    \"Your assistance in developing a mechanical ring with a straightforward design is appreciated. Could you please specify the inner radius of {inner_radius}, outer radius of {outer_radius}, and height of {height} for an accessory that combines simplicity with elegance?\",\n",
        "    \"I would be grateful if you could design a precision-engineered mechanical ring with specified inner radius of {inner_radius}, outer radius of {outer_radius}, and height of {height}, emphasizing a clean and polished appearance.\",\n",
        "    \"Please design a sleek mechanical ring with specific inner radius of {inner_radius}, outer radius of {outer_radius}, and height of {height}.\",\n",
        "    \"Craft a modern mechanical ring with precise inner radius of {inner_radius}, outer radius of {outer_radius}, and dimensions. Could you provide the details for the height?\",\n",
        "    \"Could you create a 3D model for a mechanical ring with exact inner radius of {inner_radius}, outer radius of {outer_radius}, and height of {height}?\",\n",
        "    \"Design a symmetrical mechanical ring, specifying inner radius of {inner_radius}, outer radius of {outer_radius}, and height of {height}. Thank you.\",\n",
        "    \"Craft a geometric mechanical ring. Please share the inner radius of {inner_radius}, outer radius of {outer_radius}, and height of {height}.\",\n",
        "    \"Develop a precision mechanical ring with placeholders for customization. Specify the inner radius of {inner_radius}, outer radius of {outer_radius}, and height of {height}, please.\",\n",
        "    \"Design a polished mechanical ring. Specify inner radius of {inner_radius}, outer radius of {outer_radius}, and height of {height} for sophistication.\",\n",
        "    \"Create a 3D model for a mechanical ring with equal dimensions. Share inner radius of {inner_radius}, outer radius of {outer_radius}, and height of {height}.\",\n",
        "    \"Craft a timeless mechanical ring. Specify inner radius of {inner_radius}, outer radius of {outer_radius}, and height of {height} for balance.\",\n",
        "    \"Could you design a streamlined mechanical ring? Inner radius of {inner_radius}, outer radius of {outer_radius}, and height of {height} details appreciated.\",\n",
        "    \"Craft a mechanical ring with dimensions as follows: inner radius of {inner_radius}, outer radius of {outer_radius}, and height of {height}.\",\n",
        "    \"Design a precise mechanical ring. Please provide inner radius of {inner_radius}, outer radius of {outer_radius}, and height of {height}.\",\n",
        "    \"Create a 3D model for a mechanical ring. Specify exact inner radius {inner_radius} and outer radius {outer_radius} measurements along with the height of {height}.\",\n",
        "    \"Develop a symmetrical mechanical ring with the following dimensions: inner radius of {inner_radius}, outer radius of {outer_radius}, and height of {height}.\",\n",
        "    \"Craft a geometric mechanical ring. Share specific values for inner radius of {inner_radius}, outer radius of {outer_radius}, and height of {height}.\",\n",
        "    \"Design a customizable mechanical ring. Need placeholders for measurements. Specify inner radius of {inner_radius}, outer radius of {outer_radius}, and height of {height}.\",\n",
        "    \"Create a polished mechanical ring. Specify inner radius of {inner_radius}, outer radius of {outer_radius}, and height of {height} for refinement.\",\n",
        "    \"Craft a streamlined mechanical ring. Provide exact values for inner radius of {inner_radius}, outer radius of {outer_radius}, and height of {height}.\",\n",
        "    \"Design a balanced mechanical ring. Please share specific inner radius of {inner_radius}, outer radius of {outer_radius}, and height of {height}.\",\n",
        "    \"Could you create a mechanical ring with the following dimensions: inner radius of {inner_radius}, outer radius of {outer_radius}, and height of {height}?\"\n",
        "]\n",
        "ring_design_strings += [\n",
        "    \"Mechanical ring, inner radius of {inner_radius}, outer radius of {outer_radius}, and height of {height}?\",\n",
        "    \"Craft a ring with specific inner radius of {inner_radius}, outer radius of {outer_radius}, and height of {height}.\",\n",
        "    \"3D model: ring, inner radius {inner_radius}, outer radius {outer_radius}, height {height}.\",\n",
        "    \"Symmetrical ring, inner radius {inner_radius}, outer radius {outer_radius}, height {height}?\",\n",
        "    \"Geometric ring, inner radius {inner_radius}, outer radius {outer_radius}, height {height}.\",\n",
        "    \"Polished ring, inner radius {inner_radius}, outer radius {outer_radius}, height {height}.\",\n",
        "    \"Streamlined ring, inner radius {inner_radius}, outer radius {outer_radius}, height {height}.\",\n",
        "    \"Balanced ring, inner radius {inner_radius}, outer radius {outer_radius}, and height {height}?\",\n",
        "    \"Customizable ring, inner radius {inner_radius}, outer radius {outer_radius}, and height {height}?\",\n",
        "    \"Specify values: ring, inner radius {inner_radius}, outer radius {outer_radius}, and height {height}.\",\n",
        "    \"Hey Tala, got a quick favor – I'm working on a 3D ring model. Please draw me it with inner radius of {inner_radius}, outer radius of {outer_radius}, and height of {height}.\",\n",
        "    \"Quick request: I'm onto a 3D ring project. Draw it with inner radius of {inner_radius}, outer radius of {outer_radius}, and height of {height}?\",\n",
        "    \"Hey Joud, need your help on a 3D ring I'm designing. With inner radius of {inner_radius}, outer radius of {outer_radius}, and height of {height}?\",\n",
        "    \"Craft a mechanical ring with a harmonious balance in shape. Please share your vision for the outer radius of {outer_radius}, inner radius of {inner_radius}, and height of {height}.\",\n",
        "    \"Create a ring with a distinctive silhouette – specific outer radius of {outer_radius}, inner radius of {inner_radius}, and height of {height} dimensions are up to your creative interpretation.\",\n",
        "    \"Can you design a mechanical ring with a unique shape? Consider the outer radius of {outer_radius}, inner radius of {inner_radius}, and height of {height} in bringing this concept to life.\",\n",
        "    \"Shape a ring with a specific outer radius of {outer_radius}, inner radius of {inner_radius}, and height of {height}, emphasizing an unconventional and eye-catching design.\",\n",
        "    \"Explore the contours of a mechanical ring's shape, considering the outer radius of {outer_radius}, inner radius of {inner_radius}, and height of {height} in your creative process.\",\n",
        "    \"Craft a symmetrical ring with a focus on shape. Share your thoughts on the outer radius of {outer_radius}, inner radius of {inner_radius}, and height of {height} for this design.\",\n",
        "    \"Design a geometrically inspired ring, paying attention to the shape. How would you envision the outer radius of {outer_radius}, inner radius of {inner_radius}, and height of {height}?\",\n",
        "    \"Shape a polished ring with distinctive contours. Your insights on the outer radius of {outer_radius}, inner radius of {inner_radius}, and height of {height} will shape its elegance.\",\n",
        "    \"Create a streamlined ring with a unique shape. Consider the outer radius of {outer_radius}, inner radius of {inner_radius}, and height of {height} for a sleek and modern appearance.\",\n",
        "    \"Craft a balanced ring with a distinctive shape. Your creative input on the outer radius of {outer_radius}, inner radius of {inner_radius}, and height of {height} will define its character.\",\n",
        "    \"Design a customizable ring with emphasis on shape. How would you approach the outer radius of {outer_radius}, inner radius of {inner_radius}, and height of {height} for personalized style?\",\n",
        "    \"Shape a ring with specific values in mind: outer radius of {outer_radius}, inner radius of {inner_radius}, and height of {height}. Your artistic vision will guide this project.\",\n",
        "    \"Hi, please design a unique model for a ring with outer radius of {outer_radius}, inner radius of {inner_radius}, and height of {height}.\",\n",
        "    \"Hi there! Could you create a stunning ring model with outer radius {outer_radius}, inner radius {inner_radius}, and height of {height}?\",\n",
        "    \"Hello! I'd love a customized ring model. Could you work on the outer radius {outer_radius}, inner radius {inner_radius}, and height of {height} dimensions?\",\n",
        "    \"Hi! Seeking a personalized touch. Please craft a ring model with specified outer radius of {outer_radius}, inner radius of {inner_radius}, and height of {height} values.\",\n",
        "    \"Hello, please design a ring model with a focus on outer radius {outer_radius}, inner radius {inner_radius}, and height of {height} dimensions.\",\n",
        "    \"Hi! Looking for a special ring model. Could you consider the outer radius {outer_radius}, inner radius {inner_radius}, and height of {height} in your design?\",\n",
        "    \"Hello, could you create a model for a ring? I'm interested in the outer radius {outer_radius}, inner radius {inner_radius}, and height of {height} specifics.\",\n",
        "    \"Hi there! Seeking a unique ring model. Please incorporate specified outer radius of {outer_radius}, inner radius of {inner_radius}, and height of {height} dimensions.\",\n",
        "    \"Hello! I'm in need of a ring model. Can you please include outer radius {outer_radius} , inner radius {inner_radius}, and height of {height} details in your design?\",\n",
        "    \"Hi, please craft a ring model with attention to outer radius {outer_radius}, inner radius {inner_radius} , and height of {height} parameters.\"\n",
        "]\n",
        "ring_design_strings += [\n",
        "    \"Hey there! Could you create a super cute ring model for me? Let's go with outer radius {outer_radius}, inner radius {inner_radius}, and height of {height} dimensions!\",\n",
        "    \"Hi! I'm on a quest for the most adorable ring model. Can you bring some cuteness to life with outer radius {outer_radius}, inner radius {inner_radius}, and height of {height} details?\",\n",
        "    \"Hey! I'm dreaming of a cute ring model. Any chance you could sprinkle some charm using outer radius {outer_radius}, inner radius  {inner_radius}, and height of {height} measurements?\",\n",
        "    \"Hello! Looking for a ring that's as cute as a button. Mind designing one with outer radius {outer_radius}, inner radius {inner_radius} , and height of {height} dimensions?\",\n",
        "    \"Hiya! Ready for a cute ring adventure? Let's dive in with outer radius {outer_radius}, inner radius{inner_radius}, and height of {height} specs for an extra dose of adorableness!\",\n",
        "    \"Hey friend! Let's create a ring that's cuteness overload. Can you sketch one up with outer radius {outer_radius}, inner radius {inner_radius} , and height of {height} details?\",\n",
        "    \"Greetings! In pursuit of perfection, could you meticulously craft a flawless ring model? I'm keen on outer radius {outer_radius}, inner radius {inner_radius}, and height of {height} dimensions.\",\n",
        "    \"Hello there! Seeking your expert touch to create a ring model of sheer perfection. outer radius {outer_radius}, inner radius {inner_radius}, and height of {height} details will make it impeccable.\",\n",
        "    \"Good day! With an eye for perfection, could you design an impeccable ring model? Paying close attention to outer radius {outer_radius}, inner radius {inner_radius}, and height of {height} dimensions.\",\n",
        "    \"Salutations! I'm on a quest for perfection in a ring model. Your precision with outer radius {outer_radius}, inner radius {inner_radius}, and height of {height} details would be truly appreciated.\",\n",
        "    \"Hi! In the pursuit of perfection, I'd be delighted if you could fashion a ring model with exquisite outer radius {outer_radius}, inner radius {inner_radius}, and height of {height} specifications.\",\n",
        "    \"Greetings! As we strive for perfection, could you please create an impeccable ring model? The specifics I'm looking for include outer radius {outer_radius}, inner radius {inner_radius}, and height of {height}.\",\n",
        "    \"Hello! With perfection in mind, I'd love your expertise in crafting a flawless ring model. outer radius {outer_radius} , inner radius {inner_radius}, and height of {height} dimensions are key.\",\n",
        "    \"Good day! Seeking the touch of perfection for a ring model. Your attention to outer radius {outer_radius} , inner radius {inner_radius}, and height of {height} details will undoubtedly elevate its beauty.\",\n",
        "    \"Salutations! In the pursuit of perfection, your design prowess would be greatly valued for a ring model. outer radius {outer_radius}, inner radius {inner_radius} , and height of {height} precision, please.\",\n",
        "    \"Hi there! With an emphasis on perfection, could you lend your skills to create a flawless ring model? The outer radius {outer_radius}, inner radius {inner_radius}, and height of {height} dimensions are key.\",\n",
        "    \"I need a ring model with precise outer radius  {outer_radius} , inner radius {inner_radius}, and height of {height} dimensions. No room for error, please.\",\n",
        "    \"Craft a ring model with exact outer radius  {outer_radius} , inner radius {inner_radius} , and height of {height} specifications. I expect accuracy.\",\n",
        "    \"Design a flawless ring model. Outer radius  {outer_radius}, inner radius {inner_radius}, and height of {height} details should be spot-on.\",\n",
        "    \"I require a ring model designed with absolute precision. Provide exact   outer radius {outer_radius} , inner radius {inner_radius} , and height of {height} measurements.\",\n",
        "    \"No compromises. Design a ring model with meticulous attention to radiuses of  outer radius {outer_radius} , inner radius {inner_radius}, and height of {height} dimensions.\",\n",
        "    \"Precision is key. Create a ring model ensuring perfection in outer radius {outer_radius}, inner radius {inner_radius}, and height of {height} specifications.\",\n",
        "    \"Ensure perfection. Design a ring model with meticulous precision in outer radius {outer_radius}, inner radius {inner_radius}, and height of {height} dimensions.\",\n",
        "    \"I don't want errors. Create a ring model with precise outer radius {outer_radius}, inner radius {inner_radius}, and height of {height} details.\",\n",
        "    \"No room for mistakes. Provide a ring model with exact outer radius {outer_radius}, inner radius {inner_radius}, and height of {height} specifications.\",\n",
        "    \"Perfection is the standard. Craft a ring model with flawless outer radius {outer_radius}, inner radius {inner_radius}, and height of {height} dimensions.\",\n",
        "    \"Demanding precision. I need a ring model with spot-on outer radius {outer_radius}, inner radius {inner_radius}, and height of {height} measurements.\",\n",
        "    \"No compromises on precision. Deliver a ring model with exact outer radius {outer_radius}, inner radius {inner_radius}, and height of {height} details.\",\n",
        "    \"Attention to detail is a must. Provide a ring model with impeccable outer radius {outer_radius}, inner radius {inner_radius}, and height of {height} specifications.\",\n",
        "    \"I expect perfection. Design a ring model with flawless outer radius {outer_radius} , inner radius {inner_radius}, and height of {height} dimensions.\",\n",
        "    \"Precise craftsmanship required. Deliver a ring model with exact outer radius {outer_radius} , inner radius {inner_radius}, and height of {height} measurements.\",\n",
        "    \"Strict requirements: Create a ring model with precision in outer radius {outer_radius}, inner radius {inner_radius}, and height of {height} details.\",\n",
        "    \"Kindly design a ring model adhering strictly to the specified outer radius {outer_radius} , inner radius {inner_radius}, and height of {height} dimensions.\",\n",
        "    \"I require a ring model crafted with utmost precision. Please ensure strict adherence to outer radius{outer_radius} , inner radius {inner_radius}, and height of {height} specifications.\",\n",
        "    \"Your task is to create a ring model with strict attention to detail, following precise outer radius {outer_radius}  , inner radius {inner_radius} , and height of {height} dimensions.\",\n",
        "    \"Craft a ring model with strict conformity to the specified outer radius = {outer_radius} , inner radius = {inner_radius} , and height of {height} measurements. Precision is non-negotiable.\",\n",
        "    \"I expect a ring model that strictly adheres to the provided outer radius = {outer_radius} , inner radius = {inner_radius} , and height of {height} parameters. No deviations, please.\"\n",
        "]\n",
        "ring_design_strings += [\n",
        "    \"In strict accordance with guidelines, produce a ring model with precise outer radius = {outer_radius} , inner radius {inner_radius}, and height of {height} specifications.\",\n",
        "    \"Create a ring model with strict attention to detail, ensuring exact adherence to outer radius {outer_radius} , inner radius {inner_radius} , and height of {height} dimensions.\",\n",
        "    \"Your assignment is to design a ring model with strict conformity to the provided outer radius {outer_radius} , inner radius {inner_radius} , and height of {height} values. Precision is imperative.\",\n",
        "    \"I demand a ring model with strict precision in outer radius of {outer_radius}, inner radius of {inner_radius}, and height of {height} dimensions. Any deviations will not be tolerated.\",\n",
        "    \"Kindly ensure strict compliance with the outer radius of {outer_radius}, inner radius of {inner_radius}, and height of {height} specifications when crafting the ring model.\",\n",
        "    \"Design a ring model with meticulous attention to the specified height of {height}, outer radius of {outer_radius}, and inner radius of {inner_radius} dimensions.\",\n",
        "    \"For this project, I need a ring model crafted with precision, emphasizing the exact height of {height}, outer radius of {outer_radius}, and inner radius of {inner_radius} specifications.\",\n",
        "    \"Your expertise is required to create a flawless ring model, with particular emphasis on the specified height of {height}, outer radius of {outer_radius}, and inner radius of {inner_radius} dimensions.\",\n",
        "    \"Craft a ring model with strict conformity to the provided height of {height}, outer radius of {outer_radius}, and inner radius of {inner_radius} measurements. Precision in height is critical.\",\n",
        "    \"In this assignment, prioritize the design around the specified height of {height}, outer radius of {outer_radius}, and inner radius of {inner_radius} parameters for an impeccable ring model.\",\n",
        "    \"I insist on a ring model that strictly adheres to the provided height of {height}, outer radius of {outer_radius}, and inner radius of {inner_radius} parameters. Height precision is non-negotiable.\",\n",
        "    \"Create a ring model with an unwavering focus on the specified height of {height}, outer radius of {outer_radius}, and inner radius of {inner_radius} dimensions. Strict adherence to guidelines is expected.\",\n",
        "    \"For this project, your task is to design a ring model with a strict emphasis on the provided height of {height}, outer radius of {outer_radius}, and inner radius of {inner_radius} guidelines.\",\n",
        "    \"I require a ring model that prioritizes strict precision in height of {height}, outer radius of {outer_radius}, and inner radius of {inner_radius} dimensions. Any deviations will not be tolerated.\",\n",
        "    \"Kindly ensure strict compliance with the height of {height}, outer radius of {outer_radius}, and inner radius of {inner_radius} specifications when crafting the ring model for this project.\",\n",
        "    \"Your responsibility is to create a ring model where the emphasis lies on strict adherence to the provided height of {height}, outer radius of {outer_radius}, and inner radius of {inner_radius} values.\",\n",
        "    \"Craft a ring model with meticulous attention to the specified height of {height}, ensuring exact adherence to the provided outer radius of {outer_radius} and inner radius of {inner_radius} dimensions. Precision is non-negotiable.\",\n",
        "    \"In this project, I expect a ring model that strictly follows the provided height of {height}, outer radius of {outer_radius}, and inner radius of {inner_radius} parameters. Height precision is of the utmost importance.\",\n",
        "    \"Your task is to design a ring model with a strict focus on height precision of {height}, adhering to the provided outer radius of {outer_radius} and inner radius of {inner_radius} dimensions.\",\n",
        "    \"Create a ring model with strict conformity to the specified height of {height}, outer radius of {outer_radius}, and inner radius of {inner_radius} values. Deviations in height will not be accepted.\",\n",
        "    \"For this assignment, your task is to design a ring model with strict precision in height of {height}, outer radius of {outer_radius}, and inner radius of {inner_radius} dimensions. Adherence to guidelines is expected.\",\n",
        "    \"I demand a ring model that strictly adheres to the provided height of {height}, outer radius of {outer_radius}, and inner radius of {inner_radius} specifications. Height precision is mandatory.\",\n",
        "    \"In strict accordance with the outlined requirements, produce a ring model with precise height of {height}, outer radius of {outer_radius}, and inner radius of {inner_radius} dimensions.\",\n",
        "    \"Craft a ring model with meticulous attention to height {height} , ensuring exact adherence to the specified outer radius of {outer_radius} and inner radius of {inner_radius} dimensions. Precision is non-negotiable.\",\n",
        "    \"Your assignment is to create a ring model with strict conformity to the provided height of {height}, outer radius of {outer_radius}, and inner radius of {inner_radius} values. Height precision is required.\",\n",
        "    \"Design a ring model, focusing primarily on the specified height of {height}, and then adhering to the provided outer radius of {outer_radius} and inner radius of {inner_radius} parameters.\",\n",
        "    \"For this task, create a ring model with detailed attention to the specified height of {height}, outer radius of {outer_radius}, and inner radius of {inner_radius} parameters.\",\n",
        "    \"Your expertise is crucial in crafting a ring model with a heightened emphasis on the specified height of {height}, outer radius of {outer_radius}, and inner radius of {inner_radius} dimensions.\",\n",
        "    \"Craft a ring model with an unwavering focus on the specified height of {height}, ensuring precision in the provided outer radius of {outer_radius} and inner radius of {inner_radius} measurements.\",\n",
        "    \"I insist on a ring model that strictly adheres to the provided height of {height}, ensuring impeccable precision in outer radius of {outer_radius} and inner radius of {inner_radius} dimensions.\",\n",
        "    \"Create a ring model where the key emphasis is on the specified height of {height}, followed by precision in the provided outer radius of {outer_radius} and inner radius of {inner_radius} parameters.\",\n",
        "    \"For this assignment, your task is to design a ring model with meticulous attention to height precision of {height}, adhering to the provided outer radius of {outer_radius} and inner radius of {inner_radius} dimensions.\",\n",
        "    \"I require a ring model that prioritizes strict compliance with the specified height of {height}, ensuring impeccable precision in outer radius of {outer_radius} and inner radius of {inner_radius} measurements.\",\n",
        "    \"Craft a ring model with a heightened focus on the specified height of {height}, ensuring strict adherence to the provided outer radius of {outer_radius} and inner radius of {inner_radius} dimensions.\",\n",
        "    \"Your responsibility is to create a ring model where the central emphasis lies on strict precision in height of {height}, adhering to the provided outer radius of {outer_radius} and inner radius of {inner_radius} values.\"\n",
        "]\n"
      ],
      "metadata": {
        "id": "yPDv2v-I12Gh"
      },
      "execution_count": null,
      "outputs": []
    },
    {
      "cell_type": "markdown",
      "source": [
        "## length"
      ],
      "metadata": {
        "id": "nEZYwo8t2MTV"
      }
    },
    {
      "cell_type": "code",
      "source": [
        "size = len(ring_design_strings)\n",
        "print(size)"
      ],
      "metadata": {
        "colab": {
          "base_uri": "https://localhost:8080/"
        },
        "id": "o5dPJlcS2OlR",
        "outputId": "73b07fa1-bb05-465c-8324-a41c800f2cf7"
      },
      "execution_count": null,
      "outputs": [
        {
          "output_type": "stream",
          "name": "stdout",
          "text": [
            "15\n"
          ]
        }
      ]
    },
    {
      "cell_type": "markdown",
      "source": [
        "# code"
      ],
      "metadata": {
        "id": "TVc8q0nz1w3i"
      }
    },
    {
      "cell_type": "markdown",
      "source": [
        "## libraries"
      ],
      "metadata": {
        "id": "RIA_jYp228BZ"
      }
    },
    {
      "cell_type": "code",
      "source": [
        "import json\n",
        "import random\n",
        "import math\n",
        "from pydrive.auth import GoogleAuth\n",
        "from pydrive.drive import GoogleDrive\n",
        "\n",
        "from google.colab import files"
      ],
      "metadata": {
        "id": "ARv3lRmK29fj",
        "colab": {
          "base_uri": "https://localhost:8080/"
        },
        "outputId": "c9c74c71-c819-419f-c72b-dcc5df9561b2"
      },
      "execution_count": null,
      "outputs": [
        {
          "output_type": "stream",
          "name": "stderr",
          "text": [
            "WARNING:root:pydrive is deprecated and no longer maintained. We recommend that you migrate your projects to pydrive2, the maintained fork of pydrive\n"
          ]
        }
      ]
    },
    {
      "cell_type": "markdown",
      "source": [
        "## itterations"
      ],
      "metadata": {
        "id": "HB-D8fft3FMK"
      }
    },
    {
      "cell_type": "code",
      "source": [
        "num_iterations = 1"
      ],
      "metadata": {
        "id": "wtB2Z3zd3G5q"
      },
      "execution_count": null,
      "outputs": []
    },
    {
      "cell_type": "markdown",
      "source": [
        "## only radius"
      ],
      "metadata": {
        "id": "Gu04aDw1NTYp"
      }
    },
    {
      "cell_type": "markdown",
      "source": [
        "The directions are measured by radius (inner and outer)"
      ],
      "metadata": {
        "id": "HkctIkXXtQ0t"
      }
    },
    {
      "cell_type": "code",
      "source": [
        "filled_ring_design_strings = []"
      ],
      "metadata": {
        "id": "VIh9X1HiQ-_z"
      },
      "execution_count": null,
      "outputs": []
    },
    {
      "cell_type": "code",
      "source": [
        "with open('/content/drive/MyDrive/project/FunctionCALLfalcondata.json', 'a') as file:\n",
        "  #300 can be changed as much as you want (max = len(ring_design_strings))\n",
        " for design_string in ring_design_strings [:300] :\n",
        "    for i in range (num_iterations):\n",
        "      #Replacing any 'diameter'word in the dataset with 'radius'\n",
        "      design_string = design_string.replace( 'diameter' , 'radius')\n",
        "      #Generating Random Values for inner and outer radiuses making sure that outer isalways bigger than inner\n",
        "      inner_radius = round(random.uniform(3,20),2)\n",
        "      outer_radius = round(random.uniform(inner_radius +1, 21),2)\n",
        "      inner_diameter = round(2*inner_radius,2)\n",
        "      outer_diameter = round(2*outer_radius,2)\n",
        "      if outer_radius - inner_radius <8:\n",
        "         height = round(random.uniform(0.3, (outer_radius - inner_radius)),2)\n",
        "      else:\n",
        "         height = round(random.uniform(0.3, 8),2)\n",
        "      # Calculating area and perimeter\n",
        "      area_profile1 = round(math.pi * outer_radius**2 - math.pi * inner_radius**2,2)\n",
        "      perimeter_profile1 = round( 2 * math.pi * outer_radius, 2)\n",
        "\n",
        "      # Calculate area and perimeter for profile 2\n",
        "      area_profile2 = math.pi * inner_radius**2\n",
        "      perimeter_profile2 = 2 * math.pi * inner_radius\n",
        "\n",
        "      ## filling the dataset with the values\n",
        "      filled_design_string = design_string.format(height=height,inner_radius= inner_radius ,outer_radius=outer_radius ,inner_diameter= inner_diameter , outer_diameter=outer_diameter )\n",
        "      respons = f\"Generate_file(shape = 'ring' , height = {height} , outer_radius = {outer_radius} , inner_radius = {inner_radius} , ring_area = {area_profile1} , ring_perimeter = {perimeter_profile1})\"\n",
        "      formatted_data = f'{{\"text\": \"### user_promt:{filled_design_string} ### Assistant: {respons}\"}}'\n",
        "      print(formatted_data)\n",
        "\n",
        "      file.write(formatted_data + '\\n')"
      ],
      "metadata": {
        "colab": {
          "base_uri": "https://localhost:8080/"
        },
        "id": "c6AL_vpnNkCP",
        "outputId": "478a4b74-b7db-49b1-838d-f49487183f95"
      },
      "execution_count": null,
      "outputs": [
        {
          "output_type": "stream",
          "name": "stdout",
          "text": [
            "{\"text\": \"### user_promt:Design a 3D model for a ring with an outer radius of 16.86, inner radius of 14.97, and a height of 1.3. ### Assistant: Generate_file(shape = 'ring' , height = 1.3 , outer_radius = 16.86 , inner_radius = 14.97 , ring_area = 188.99 , ring_perimeter = 105.93)\"}\n",
            "{\"text\": \"### user_promt:Seeking a skilled designer to create a printable ring with an outer radius of 20.47, inner radius of 18.01, and a height of 0.61. ### Assistant: Generate_file(shape = 'ring' , height = 0.61 , outer_radius = 20.47 , inner_radius = 18.01 , ring_area = 297.39 , ring_perimeter = 128.62)\"}\n",
            "{\"text\": \"### user_promt:Polished ring, inner radius 10.08, outer radius 13.23, height 1.71. ### Assistant: Generate_file(shape = 'ring' , height = 1.71 , outer_radius = 13.23 , inner_radius = 10.08 , ring_area = 230.68 , ring_perimeter = 83.13)\"}\n"
          ]
        }
      ]
    },
    {
      "cell_type": "code",
      "source": [
        "with open('/content/drive/MyDrive/project/FunctionCALLfalcondata.json', 'a') as file:\n",
        " for design_string in ring_design_strings [300:500] :\n",
        "    for i in range (num_iterations):\n",
        "      design_string = design_string.replace( 'diameter' , 'radius')\n",
        "      inner_radius = round(random.uniform(21,50),2)\n",
        "      outer_radius = round(random.uniform(inner_radius +1, 51),2)\n",
        "      inner_diameter = round(2*inner_radius,2)\n",
        "      outer_diameter = round(2*outer_radius,2)\n",
        "      if outer_radius - inner_radius <8:\n",
        "         height = round(random.uniform(0.3, (outer_radius - inner_radius)),2)\n",
        "      else:\n",
        "         height = round(random.uniform(0.3, 8),2)\n",
        "\n",
        "      area_profile1 = round(math.pi * outer_radius**2 - math.pi * inner_radius**2,2)\n",
        "      perimeter_profile1 = round( 2 * math.pi * outer_radius, 2)\n",
        "\n",
        "      # Calculate area and perimeter for profile 2\n",
        "      area_profile2 = math.pi * inner_radius**2\n",
        "      perimeter_profile2 = 2 * math.pi * inner_radius\n",
        "      filled_design_string = design_string.format(height=height,inner_radius= inner_radius ,outer_radius=outer_radius ,inner_diameter= inner_diameter , outer_diameter=outer_diameter )\n",
        "      respons = f\"Generate_file(shape = 'ring' , height = {height} , outer_radius = {outer_radius} , inner_radius = {inner_radius} , ring_area = {area_profile1} , ring_perimeter = {perimeter_profile1})\"\n",
        "      formatted_data = f'{{\"text\": \"### user_promt:{filled_design_string} ### Assistant: {respons}\"}}'\n",
        "      print(formatted_data)\n",
        "\n",
        "      file.write(formatted_data + '\\n')"
      ],
      "metadata": {
        "colab": {
          "base_uri": "https://localhost:8080/"
        },
        "id": "a8jXqvIkaY3U",
        "outputId": "bd24f2da-6678-4ff4-c7e9-8bab9db176ea"
      },
      "execution_count": null,
      "outputs": [
        {
          "output_type": "stream",
          "name": "stdout",
          "text": [
            "{\"text\": \"### user_promt:Streamlined ring, inner radius 45.14, outer radius 49.83, height 4.21. ### Assistant: Generate_file(shape = 'ring' , height = 4.21 , outer_radius = 49.83 , inner_radius = 45.14 , ring_area = 1399.29 , ring_perimeter = 313.09)\"}\n",
            "{\"text\": \"### user_promt:Balanced ring, inner radius 30.49, outer radius 43.09, and height 7.54? ### Assistant: Generate_file(shape = 'ring' , height = 7.54 , outer_radius = 43.09 , inner_radius = 30.49 , ring_area = 2912.6 , ring_perimeter = 270.74)\"}\n"
          ]
        }
      ]
    },
    {
      "cell_type": "markdown",
      "source": [
        "## only diameter"
      ],
      "metadata": {
        "id": "U6sq-hIcx0WJ"
      }
    },
    {
      "cell_type": "markdown",
      "source": [
        "The directions are measured by diameter (inner and outer)"
      ],
      "metadata": {
        "id": "i0P-tyETuQxk"
      }
    },
    {
      "cell_type": "code",
      "source": [
        "filled_ring_design_strings = []"
      ],
      "metadata": {
        "id": "F2KcMsZ-x0WT"
      },
      "execution_count": null,
      "outputs": []
    },
    {
      "cell_type": "code",
      "source": [
        "with open('/content/drive/MyDrive/project/FunctionCALLfalcondata.json', 'a') as file:\n",
        " #7:8 can be changed\n",
        " for design_string in ring_design_strings [7:8] :\n",
        "    for i in range (num_iterations):\n",
        "      #Replacing any 'radius'word in the dataset with 'diameter'\n",
        "\n",
        "      design_string = design_string.replace(  'radius' ,'diameter' )\n",
        "      design_string = design_string.replace(  'outer_radius' ,'outer_diameter' )\n",
        "      design_string = design_string.replace(  'inner_radius' ,'inner_diameter' )\n",
        "      inner_radius = round(random.uniform(3,20),2)\n",
        "      outer_radius = round(random.uniform(inner_radius +1, 21),2)\n",
        "      inner_diameter = round(2*inner_radius,2)\n",
        "      outer_diameter = round(2*outer_radius,2)\n",
        "      if outer_radius - inner_radius <8:\n",
        "         height = round(random.uniform(0.3, (outer_radius - inner_radius)),2)\n",
        "      else:\n",
        "         height = round(random.uniform(0.3, 8),2)\n",
        "\n",
        "      area_profile1 = round(math.pi * outer_radius**2 - math.pi * inner_radius**2,2)\n",
        "      perimeter_profile1 = round( 2 * math.pi * outer_radius, 2)\n",
        "\n",
        "\n",
        "      filled_design_string = design_string.format(height=height,inner_radius= inner_radius ,outer_radius=outer_radius ,inner_diameter= inner_diameter , outer_diameter=outer_diameter )\n",
        "      respons = f\"Generate_file(shape = 'ring' , height = {height} , outer_radius = {outer_radius} , inner_radius = {inner_radius} , ring_area = {area_profile1} , ring_perimeter = {perimeter_profile1})\"\n",
        "      formatted_data = f'{{\"text\": \"### user_promt:{filled_design_string} ### Assistant: {respons}\"}}'\n",
        "      print(formatted_data)\n",
        "\n",
        "      file.write(formatted_data + '\\n')"
      ],
      "metadata": {
        "colab": {
          "base_uri": "https://localhost:8080/"
        },
        "outputId": "15fd2671-f1a1-4a00-9f9f-7c7be54e9a58",
        "id": "tHCmzQWhx0WT"
      },
      "execution_count": null,
      "outputs": [
        {
          "output_type": "stream",
          "name": "stdout",
          "text": [
            "{\"text\": \"### user_promt:Design a ring, inner diameter 14.6, outer diameter 22.0, and height 1.66? ### Assistant: Generate_file(shape = 'ring' , height = 1.66 , outer_radius = 11.0 , inner_radius = 7.3 , ring_area = 212.72 , ring_perimeter = 69.12)\"}\n"
          ]
        }
      ]
    },
    {
      "cell_type": "code",
      "source": [
        "with open('/content/drive/MyDrive/project/FunctionCALLfalcondata.json', 'a') as file:\n",
        " for design_string in ring_design_strings [8:10] :\n",
        "    for i in range (num_iterations):\n",
        "      design_string = design_string.replace(  'radius' ,'diameter' )\n",
        "      design_string = design_string.replace(  'outer_radius' ,'outer_diameter' )\n",
        "      design_string = design_string.replace(  'inner_radius' ,'inner_diameter' )\n",
        "      inner_radius = round(random.uniform(21,50),2)\n",
        "      outer_radius = round(random.uniform(inner_radius +1, 51),2)\n",
        "      inner_diameter = round(2*inner_radius,2)\n",
        "      outer_diameter = round(2*outer_radius,2)\n",
        "      if outer_radius - inner_radius <8:\n",
        "         height = round(random.uniform(0.3, (outer_radius - inner_radius)),2)\n",
        "      else:\n",
        "         height = round(random.uniform(0.3, 8),2)\n",
        "\n",
        "      area_profile1 = round(math.pi * outer_radius**2 - math.pi * inner_radius**2,2)\n",
        "      perimeter_profile1 = round( 2 * math.pi * outer_radius, 2)\n",
        "\n",
        "      filled_design_string = design_string.format(height=height,inner_radius= inner_radius ,outer_radius=outer_radius ,inner_diameter= inner_diameter , outer_diameter=outer_diameter )\n",
        "      respons = f\"Generate_file(shape = 'ring' , height = {height} , outer_radius = {outer_radius} , inner_radius = {inner_radius} , ring_area = {area_profile1} , ring_perimeter = {perimeter_profile1})\"\n",
        "      formatted_data = f'{{\"text\": \"### user_promt:{filled_design_string} ### Assistant: {respons}\"}}'\n",
        "      print(formatted_data)\n",
        "\n",
        "      file.write(formatted_data + '\\n')"
      ],
      "metadata": {
        "colab": {
          "base_uri": "https://localhost:8080/"
        },
        "outputId": "4e759fd6-bf12-4643-a340-aed0120e6a7d",
        "id": "1qWtj43Mx0WT"
      },
      "execution_count": null,
      "outputs": [
        {
          "output_type": "stream",
          "name": "stdout",
          "text": [
            "{\"text\": \"### user_promt:Hi , Can you help me to create a ring with inner diameter 50.1, outer diameter 65.78, and height 6.78? ### Assistant: Generate_file(shape = 'ring' , height = 6.78 , outer_radius = 32.89 , inner_radius = 25.05 , ring_area = 1427.07 , ring_perimeter = 206.65)\"}\n",
            "{\"text\": \"### user_promt:Need a ring design with inner diameter 58.22, outer diameter 89.08, and height 1.72? ### Assistant: Generate_file(shape = 'ring' , height = 1.72 , outer_radius = 44.54 , inner_radius = 29.11 , ring_area = 3570.17 , ring_perimeter = 279.85)\"}\n"
          ]
        }
      ]
    },
    {
      "cell_type": "markdown",
      "source": [
        "## mix"
      ],
      "metadata": {
        "id": "kelg-Y6N08EY"
      }
    },
    {
      "cell_type": "markdown",
      "source": [
        "The directions are measured by diameter and radius (mixing) (inner rad with outer diameter OR inner diameter with inner rad)"
      ],
      "metadata": {
        "id": "G1-yGHuqutCR"
      }
    },
    {
      "cell_type": "code",
      "source": [
        "filled_ring_design_strings = []"
      ],
      "metadata": {
        "id": "acec3wu608Ei"
      },
      "execution_count": null,
      "outputs": []
    },
    {
      "cell_type": "markdown",
      "source": [
        "### inner rad with outer diameter"
      ],
      "metadata": {
        "id": "h4Sd31ecvTId"
      }
    },
    {
      "cell_type": "code",
      "source": [
        "with open('/content/drive/MyDrive/project/FunctionCALLfalcondata.json', 'a') as file:\n",
        " for design_string in ring_design_strings [11:13] :\n",
        "    for i in range (num_iterations):\n",
        "      #The original dataset has radius only so we only replace the outer from rad to diameter\n",
        "      design_string = design_string.replace('diameter',  'radius' )\n",
        "      design_string = design_string.replace(\"outer radius\", \"outer diameter\")\n",
        "      design_string = design_string.replace(\"outer_radius\", \"outer_diameter\")\n",
        "      inner_radius = round(random.uniform(3,20),2)\n",
        "      outer_radius = round(random.uniform(inner_radius +1, 21),2)\n",
        "      inner_diameter = round(2*inner_radius,2)\n",
        "      outer_diameter = round(2*outer_radius,2)\n",
        "      if outer_radius - inner_radius <8:\n",
        "         height = round(random.uniform(0.3, (outer_radius - inner_radius)),2)\n",
        "      else:\n",
        "         height = round(random.uniform(0.3, 8),2)\n",
        "\n",
        "      area_profile1 = round(math.pi * outer_radius**2 - math.pi * inner_radius**2,2)\n",
        "      perimeter_profile1 = round( 2 * math.pi * outer_radius, 2)\n",
        "\n",
        "\n",
        "      filled_design_string = design_string.format(height=height,inner_radius= inner_radius ,outer_radius=outer_radius ,inner_diameter= inner_diameter , outer_diameter=outer_diameter )\n",
        "      respons = f\"Generate_file(shape = 'ring' , height = {height} , outer_radius = {outer_radius} , inner_radius = {inner_radius} , ring_area = {area_profile1} , ring_perimeter = {perimeter_profile1})\"\n",
        "      formatted_data = f'{{\"text\": \"### user_promt:{filled_design_string} ### Assistant: {respons}\"}}'\n",
        "      print(formatted_data)\n",
        "\n",
        "      file.write(formatted_data + '\\n')"
      ],
      "metadata": {
        "colab": {
          "base_uri": "https://localhost:8080/"
        },
        "outputId": "2433d12b-3f39-442d-b843-924406a0ff2b",
        "id": "cQBZLELq08Ej"
      },
      "execution_count": null,
      "outputs": [
        {
          "output_type": "stream",
          "name": "stdout",
          "text": [
            "{\"text\": \"### user_promt:Requesting a ring model with inner radius 5.66, outer diameter 28.02, and height 4.51? ### Assistant: Generate_file(shape = 'ring' , height = 4.51 , outer_radius = 14.01 , inner_radius = 5.66 , ring_area = 515.99 , ring_perimeter = 88.03)\"}\n",
            "{\"text\": \"### user_promt:Hello , Please draw me a ring with inner radius 15.08, outer diameter 41.52, and height 5.36? ### Assistant: Generate_file(shape = 'ring' , height = 5.36 , outer_radius = 20.76 , inner_radius = 15.08 , ring_area = 639.54 , ring_perimeter = 130.44)\"}\n"
          ]
        }
      ]
    },
    {
      "cell_type": "markdown",
      "source": [
        "### inner diameter with outer radius"
      ],
      "metadata": {
        "id": "1GwQG-t0vZqN"
      }
    },
    {
      "cell_type": "code",
      "source": [
        "with open('/content/drive/MyDrive/project/FunctionCALLfalcondata.json', 'a') as file:\n",
        " for design_string in ring_design_strings [14:] :\n",
        "    for i in range (num_iterations):\n",
        "      design_string = design_string.replace('diameter','radius'  )\n",
        "      design_string = design_string.replace(\"inner radius\", \"inner diameter\")\n",
        "      design_string = design_string.replace(\"inner_radius\", \"inner_diameter\")\n",
        "      inner_radius = round(random.uniform(21,50),2)\n",
        "      outer_radius = round(random.uniform(inner_radius +1, 51),2)\n",
        "      inner_diameter = round(2*inner_radius,2)\n",
        "      outer_diameter = round(2*outer_radius,2)\n",
        "      if outer_radius - inner_radius <8:\n",
        "         height = round(random.uniform(0.3, (outer_radius - inner_radius)),2)\n",
        "      else:\n",
        "         height = round(random.uniform(0.3, 8),2)\n",
        "\n",
        "      area_profile1 = round(math.pi * outer_radius**2 - math.pi * inner_radius**2,2)\n",
        "      perimeter_profile1 = round( 2 * math.pi * outer_radius, 2)\n",
        "\n",
        "      filled_design_string = design_string.format(height=height,inner_radius= inner_radius ,outer_radius=outer_radius ,inner_diameter= inner_diameter , outer_diameter=outer_diameter )\n",
        "      respons = f\"Generate_file(shape = 'ring' , height = {height} , outer_radius = {outer_radius} , inner_radius = {inner_radius} , ring_area = {area_profile1} , ring_perimeter = {perimeter_profile1})\"\n",
        "      formatted_data = f'{{\"text\": \"### user_promt:{filled_design_string} ### Assistant: {respons}\"}}'\n",
        "      print(formatted_data)\n",
        "\n",
        "      file.write(formatted_data + '\\n')"
      ],
      "metadata": {
        "colab": {
          "base_uri": "https://localhost:8080/"
        },
        "outputId": "b57f5ad2-d741-432d-f19b-9418857888ff",
        "id": "Rf6N3_yV08Ej"
      },
      "execution_count": null,
      "outputs": [
        {
          "output_type": "stream",
          "name": "stdout",
          "text": [
            "{\"text\": \"### user_promt:Need a ring design with inner diameter 46.44, outer radius 50.53, and height 6.9 ### Assistant: Generate_file(shape = 'ring' , height = 6.9 , outer_radius = 50.53 , inner_radius = 23.22 , ring_area = 6327.52 , ring_perimeter = 317.49)\"}\n"
          ]
        }
      ]
    }
  ]
}