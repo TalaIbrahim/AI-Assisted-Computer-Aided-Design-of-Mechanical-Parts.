{
  "nbformat": 4,
  "nbformat_minor": 0,
  "metadata": {
    "colab": {
      "provenance": [],
      "collapsed_sections": [
        "d8LNbypg0qMK",
        "v15ZA5bu1z0m",
        "RIA_jYp228BZ",
        "HB-D8fft3FMK"
      ]
    },
    "kernelspec": {
      "name": "python3",
      "display_name": "Python 3"
    },
    "language_info": {
      "name": "python"
    }
  },
  "cells": [
    {
      "cell_type": "markdown",
      "source": [
        "# Drive"
      ],
      "metadata": {
        "id": "d8LNbypg0qMK"
      }
    },
    {
      "cell_type": "code",
      "execution_count": null,
      "metadata": {
        "id": "WWW0GYFKuZuw"
      },
      "outputs": [],
      "source": [
        "from google.colab import drive\n"
      ]
    },
    {
      "cell_type": "code",
      "source": [
        "drive.mount('/content/drive/')\n"
      ],
      "metadata": {
        "id": "08j3S2-nuowQ",
        "colab": {
          "base_uri": "https://localhost:8080/"
        },
        "outputId": "421482ae-7954-47c4-cf7a-b2c0f81bf5aa"
      },
      "execution_count": null,
      "outputs": [
        {
          "output_type": "stream",
          "name": "stdout",
          "text": [
            "Mounted at /content/drive/\n"
          ]
        }
      ]
    },
    {
      "cell_type": "markdown",
      "source": [
        "# Dataset without values"
      ],
      "metadata": {
        "id": "v15ZA5bu1z0m"
      }
    },
    {
      "cell_type": "code",
      "source": [
        "#For Eval\n",
        "bar_design = [\n",
        "    \"Draw a 3D model for a mild square bar with an side length of {side_length},  and a height of {height}.\",\n",
        "    \"I want a mild square bar with an side length of {side_length},  and a height of {height}.\",\n",
        "    \"Design a mild square bar with an side length of {side_length},  and a height of {height}.\"]"
      ],
      "metadata": {
        "id": "m9_jhXEtWonD"
      },
      "execution_count": null,
      "outputs": []
    },
    {
      "cell_type": "code",
      "source": [
        "bar_design += [\n",
        "    \"In need of a mild square bar design emphasizing precision: an  an side length {side_length}, and a height {height}. Your expertise in design is much sought after.\",\n",
        "    \"Requesting a unique mild square bar model: side length {side_length}, and height {height}. Looking forward to your creative input and expertise.\",\n",
        "    \"Seeking a mild square bar design that harmonizes distinctive measurements: an  an side length of {side_length}, and a height measumild square bar {height}. Your creative vision is welcomed.\",\n",
        "    \"In need of a mild square bar model showcasing precision: an side length set at {side_length}, and a specified height of {height}. Your attention to detail is valued.\",\n",
        "    \"Requesting a personalized mild square bar design: an  an side length measumild square bar {side_length}, and a height precisely at {height}. Seeking a unique and refined touch.\",\n",
        "    \"Seeking a skilled designer to create a mild square bar model with exact specifications: an side length {side_length}, an  and a height {height}. Your expertise is much appreciated.\",\n",
        "    \"Looking for a mild square bar design featumild square bar specific measurements: an side length at {side_length}, and a height precisely set at {height}. Your creative insights are valued.\",\n",
        "    \"Requesting a unique mild square bar model: side length {side_length}, and height {height}. Looking forward to your creative input and expertise.\",\n",
        "    \"In need of a mild square bar design emphasizing precision: an  an side length {side_length}, and a height {height}. Your expertise in design is much sought after.\",\n",
        "    \"Seeking a mild square bar design reflecting balance: an side length {side_length}, an  and a height {height}. Your creative craftsmanship is valued.\"] # for eval\n",
        "\n"
      ],
      "metadata": {
        "id": "WCPhwu_6jUvh"
      },
      "execution_count": null,
      "outputs": []
    },
    {
      "cell_type": "code",
      "source": [
        "# For Training\n",
        "bar_design = [\n",
        "            \"Design a 3D model for a mild square bar with an side length of {side_length},  and a height of {height}.\",\n",
        "            \"Seeking a skilled designer to create a 3D printable mild square bar with an side length of {side_length},  and a height of {height}.\",\n",
        "            \"Looking for a CAD expert to craft a mild square bar model with an side length of {side_length},  and a height of {height}.\",\n",
        "            \"Need a custom-designed mild square bar model: side length {side_length},  and height {height}.\",\n",
        "            \"Requesting a 3D model for a mild square bar with an side length of {side_length},  and a height of {height}.\",\n",
        "            \"Seeking a CAD designer proficient in jewelry design to create a mild square bar model with an side length of {side_length},  and a height of {height}.\",\n",
        "            \"Looking for a 3D printable mild square bar design with an side length of {side_length},  and a height of {height}.\",\n",
        "            \"Design needed: mild square bar with an side length of {side_length},  and height {height}.\",\n",
        "            \"Seeking a talented 3D modeler to create a mild square bar with an side length of {side_length},  and a height of {height}.\",\n",
        "            \"Requesting a CAD design for a mild square bar with an side length of {side_length},  and a height of {height}.\",\n",
        "            \"With a specific height of {height}, seeking a 3D model for a mild square bar with an side length of {side_length} and .\",\n",
        "            \"Starting with an  looking for a mild square bar design with an side length of {side_length} and a height of {height}.\",\n",
        "            \"Beginning from the side length of {side_length}, need a mild square bar model with an  and a specific height of {height}.\",\n",
        "            \"For a unique design, starting with an side length of {side_length}, seeking a mild square bar with a height of {height} and an .\",\n",
        "            \"Beginning with a specific  in need of a mild square bar with an side length of {side_length} and a height of {height}.\",\n",
        "            \"Starting with a designated height of {height}, looking for a mild square bar design with an  and an side length of {side_length}.\",\n",
        "            \"Requesting a mild square bar model that begins with an side length of {side_length}, with a specific  and a height of {height}.\",\n",
        "            \"Needing a mild square bar design initiated from an  with an side length of {side_length} and a height of {height}.\",\n",
        "            \"Starting the design process from the height of {height}, seeking a mild square bar with an  and an side length of {side_length}.\",\n",
        "            \"From a specified side length of {side_length}, in need of a mild square bar model with an  and a distinct height of {height}.\",\n",
        "            \"Initiating the design process from a designated side length of {side_length}, seeking a mild square bar with a specific height of {height} and an .\",\n",
        "            \"Starting with a precise height of {height}, in need of a mild square bar design with an side length of {side_length} and an .\",\n",
        "            \"With a specified  seeking a mild square bar model that encompasses an side length of {side_length} and a height of {height}.\",\n",
        "            \"From a particular height of {height}, needing a mild square bar design with an  and an side length of {side_length}.\",\n",
        "            \"Starting from a designated  seeking a mild square bar with an side length of {side_length} and a specific height of {height}.\",\n",
        "            \"For a unique design, starting with a height of {height}, in need of a mild square bar with an side length of {side_length} and an .\",\n",
        "            \"Commencing the design from an side length of {side_length}, seeking a mild square bar with a specific  and a height of {height}.\",\n",
        "            \"Beginning the design process with an  in need of a mild square bar model with an side length of {side_length} and a designated height of {height}.\",\n",
        "            \"With a specific side length of {side_length}, seeking a mild square bar design that encompasses an  and a height of {height}.\",\n",
        "            \"Initiating the specifications with a height of {height}, in need of a mild square bar with an side length of {side_length} and an .\",\n",
        "            \"Seeking a mild square bar design where the sum of  side length {side_length}, and height {height} create a balanced and elegant composition.\",\n",
        "            \"Looking for a mild square bar model with the sum of  side length {side_length}, and height {height} defining its overall aesthetic appeal.\",\n",
        "            \"Requesting a mild square bar design where the sum of  side length {side_length}, and height {height} harmoniously contribute to its structural integrity.\",\n",
        "            \"Seeking a creative approach to mild square bar design where the combined values of  side length {side_length}, and height {height} evoke a distinctive style.\",\n",
        "            \"Looking for a mild square bar model that emphasizes the sum of  side length {side_length}, and height {height} as a key design element.\",\n",
        "            \"Requesting a mild square bar design where the total of  side length {side_length}, and height {height} is integral to its visual and tactile appeal.\",\n",
        "            \"Seeking a mild square bar model where the combined values of  side length {side_length}, and height {height} create a unique and memorable design.\",\n",
        "            \"Looking for a design exploration where the sum of  side length {side_length}, and height {height} influences the overall mild square bar aesthetics.\",\n",
        "            \"Requesting a mild square bar design that showcases a creative interplay among  side length {side_length}, and height {height} to create a captivating piece.\",\n",
        "            \"Seeking a designer to craft a mild square bar model where the collective values of  side length {side_length}, and height {height} define its character and appeal.\",\n",
        "            \"Requesting a mild square bar design that creatively combines  side length {side_length}, and height {height} to reflect personalized elegance and style.\",\n",
        "            \"Seeking a mild square bar model where the sum of  side length {side_length}, and height {height} crafts a harmonious and visually striking composition.\",\n",
        "            \"Looking for a mild square bar design where the interplay of  side length {side_length}, and height {height} creates a seamless and refined aesthetic.\",\n",
        "            \"In need of a mild square bar model that optimizes the relationship between  side length {side_length}, and height {height} for an exquisite final product.\",\n",
        "            \"Seeking a creative exploration of  side length {side_length}, and height {height} to redefine conventional mild square bar design concepts.\",\n",
        "            \"Requesting a mild square bar design where the synergy among  side length {side_length}, and height {height} elevates the mild square bar's uniqueness and allure.\",\n",
        "            \"Looking for a mild square bar model that showcases the perfect balance between  side length {side_length}, and height {height} for superior craftsmanship.\",\n",
        "            \"Seeking a design that intricately weaves  side length {side_length}, and height {height} into an exceptional and bespoke mild square bar concept.\",\n",
        "            \"Requesting a mild square bar design where the sum of  side length {side_length}, and height {height} embodies sophistication and individuality.\",\n",
        "            \"In need of a mild square bar model that accentuates the interwoven elements of  side length {side_length}, and height {height} for a captivating design statement.\",\n",
        "            \"Would it be possible to create a mild square bar design incorporating  side length {side_length}, and height {height} tailored for a unique touch?\",\n",
        "            \"I'm seeking a skilled designer who could craft a mild square bar model considemild square bar  side length {side_length}, and height {height} for a personalized design.\",\n",
        "            \"Could you assist in creating a mild square bar design with attention to  side length {side_length}, and height {height} for a distinct and elegant style?\",\n",
        "            \"Might I request your expertise in designing a mild square bar model using  side length {side_length}, and height {height} for a refined and exquisite look?\",\n",
        "            \"I'm hoping to collaborate on a mild square bar design project focusing on  side length {side_length}, and height {height} for a truly bespoke creation.\",\n",
        "            \"Would you be able to help in crafting a mild square bar design featumild square bar  side length {side_length}, and height {height} to bmild square bar a unique vision to life?\",\n",
        "            \"I'm in search of a talented designer to assist with a mild square bar model incorporating  side length {side_length}, and height {height} for a personalized touch.\",\n",
        "            \"Might I kindly request your expertise in creating a mild square bar design focusing on  height {height}, and side length {side_length} to bmild square bar a unique vision to life?\",\n",
        "            \"I'm hoping to collaborate on a mild square bar design project considemild square bar side length {side_length}, and height {height} for a truly bespoke and elegant creation.\",\n",
        "            \"Would you be able to help in designing a mild square bar featumild square bar height {height}, and side length {side_length} to achieve a distinct and refined appeal?\",\n",
        "            \"Could you lend your creative expertise to craft a mild square bar model with attention to side length {side_length}, height {height} for a personalized touch?\",\n",
        "            \"I'm in search of a talented designer to assist with a mild square bar design considemild square bar an  an side length of {side_length}, and a height of {height} for a bespoke and elegant result.\",\n",
        "            \"Might I request your expertise in creating a mild square bar design with careful consideration of a height of {height}, an  and an side length of {side_length} for a distinctive appeal?\",\n",
        "            \"Would it be possible to collaborate on a mild square bar design project focusing on a height of {height}, an side length of {side_length}, and an  for a refined and unique outcome?\",\n",
        "            \"Could you assist in crafting a mild square bar design that balances an  an side length of {side_length}, and a height of {height} to achieve a personalized and elegant style?\",\n",
        "            \"I'm hoping to create a mild square bar model considemild square bar an side length of {side_length}, a height of {height}, and an  for a truly bespoke and sophisticated design.\",\n",
        "            \"Could you help in designing a mild square bar with  an side length of {side_length}, and a height measumild square bar {height}? Seeking a unique design perspective.\",\n",
        "            \"I'm looking to commission a mild square bar design with specified dimensions: an side length of {side_length}, an  and a height of {height}. Can you assist?\",\n",
        "            \"Seeking expertise in crafting a mild square bar that embodies precision: an side length at {side_length}, and a height of {height}. Your creative input is valued.\",\n",
        "            \"In need of a mild square bar design showcasing craftsmanship: an side length at {side_length}, and a height of {height}. Your expertise would be appreciated.\",\n",
        "            \"Requesting a personalized mild square bar model: an  an side length of {side_length}, and a specified height of {height}. Seeking a unique touch.\",\n",
        "            \"Explomild square bar a mild square bar design concept that balances dimensions: an side length of {side_length}, and a specified height of {height}. Seeking your design expertise.\",\n",
        "            \"Looking for a mild square bar design featumild square bar specific measurements: an  an side length {side_length}, and a height {height}. Your creative insights are welcomed.\",\n",
        "            \"Seeking a skilled designer to create a mild square bar model with exact specifications: an side length {side_length}, an  and a height {height}. Your attention to detail is valued.\"\n",
        "        ]\n",
        "bar_design += [\n",
        "            \"In need of a mild square bar design emphasizing precision: an  an side length {side_length}, and a height {height}. Your expertise in design is much sought after.\",\n",
        "            \"Requesting a unique mild square bar model: side length {side_length}, and height {height}. Looking forward to your creative input and expertise.\",\n",
        "            \"Seeking a mild square bar design that harmonizes distinctive measurements: an  an side length of {side_length}, and a height measumild square bar {height}. Your creative vision is welcomed.\",\n",
        "            \"In need of a mild square bar model showcasing precision: an side length set at {side_length}, and a specified height of {height}. Your attention to detail is valued.\",\n",
        "            \"Requesting a personalized mild square bar design: an  an side length measumild square bar {side_length}, and a height precisely at {height}. Seeking a unique and refined touch.\",\n",
        "            \"Seeking a skilled designer to create a mild square bar model with exact specifications: an side length {side_length}, an  and a height {height}. Your expertise is much appreciated.\",\n",
        "            \"Looking for a mild square bar design featumild square bar specific measurements: an side length at {side_length}, and a height precisely set at {height}. Your creative insights are valued.\",\n",
        "            \"Requesting a unique mild square bar model: side length {side_length}, and height {height}. Looking forward to your creative input and expertise.\",\n",
        "            \"In need of a mild square bar design emphasizing precision: an  an side length {side_length}, and a height {height}. Your expertise in design is much sought after.\",\n",
        "            \"Seeking a mild square bar design reflecting balance: an side length {side_length}, an  and a height {height}. Your creative craftsmanship is valued.\",\n",
        "            \"Looking to commission a mild square bar model with exact specifications: an side length at {side_length} and a specified height of {height}. Your attention to detail is welcomed.\",\n",
        "            \"Requesting a mild square bar design that balances elegance and precision: an  an side length {side_length}, and a height {height}. Your creative expertise is welcomed.\",\n",
        "            \"Seeking a mild square bar design expert to create a masterpiece with an side length of {side_length}, an  and a meticulous height of {height}. Your creative touch is valued.\",\n",
        "            \"In need of a mild square bar model that perfectly balances specifications: an side length {side_length}, an  and a carefully measured height of {height}. Your attention to detail is appreciated.\",\n",
        "            \"Requesting a personalized mild square bar design: an  an side length {side_length}, and a specific height of {height}. Seeking a design that reflects individual elegance.\",\n",
        "            \"Seeking a skilled designer to craft a mild square bar model: an side length {side_length}, an  and a precise height {height}. Your expertise in design is much welcomed.\",\n",
        "            \"Looking to commission a mild square bar model reflecting exact measurements: an side length {side_length}, and a specified height of {height}. Your creative insights are valued.\",\n",
        "            \"Requesting a unique mild square bar design: side length {side_length}, and height {height}. Looking forward to your artistic interpretation and expertise.\",\n",
        "            \"In need of a mild square bar design emphasizing precision and elegance: an  an side length {side_length}, and a carefully determined height {height}. Your creative craftsmanship is sought after.\",\n",
        "            \"Seeking a mild square bar model reflecting balance and sophistication: an side length {side_length}, an  and a carefully defined height {height}. Your creative vision is appreciated.\",\n",
        "            \"Looking for a mild square bar design expert to bmild square bar specifications to life: an side length at {side_length} and a specified height of {height}. Your attention to detail is welcomed.\",\n",
        "            \"Requesting a mild square bar design that harmonizes dimensions: an  an side length at {side_length}, and a height carefully set at {height}. Your artistic expertise is much anticipated.\",\n",
        "            \"Please craft me a 3D mild square bar with an side length of {side_length}, an  and a height of {height}.\",\n",
        "            \"Design a mechanical mild square bar with an side length of {side_length}, an  and a height of {height}.\",\n",
        "            \"Create a 3D model for a custom mild square bar with an side length of {side_length}, an  and a height of {height}.\",\n",
        "            \"Craft a precision mechanical mild square bar with an side length of {side_length}, an  and a height of {height} for optimal functionality.\",\n",
        "            \"Design a mechanical mild square bar with intricate gears. Specify the  side length of {side_length}, and height of {height} for a seamless operation.\",\n",
        "            \"Create a 3D model for a mechanical mild square bar with precise dimensions for a sleek and efficient design. Specify the  side length of {side_length}, and height of {height}.\",\n",
        "            \"Develop a detailed blueprint for a mechanical mild square bar, including the  side length of {side_length}, and height of {height} for engineemild square bar precision.\",\n",
        "            \"Craft a mechanical mild square bar with hidden compartments and moving parts. Provide the  side length of {side_length}, and height of {height} for a sophisticated touch.\",\n",
        "            \"Design a high-precision mechanical mild square bar with specified  side length {side_length}, and height {height} for optimal performance.\",\n",
        "            \"Create a customizable mechanical mild square bar with placeholders for side length {side_length} , and height {height}, allowing for personalized adjustments.\",\n",
        "            \"Develop a mechanical mild square bar prototype with specific dimensions, including side length {side_length} , and height {height}, for testing and refinement.\"\n",
        "        ]\n",
        "bar_design += [\n",
        "            \"Craft an innovative mechanical mild square bar with an  an side length of {side_length}, and a height of {height} designed for both style and functionality.\",\n",
        "            \"Design a mechanical mild square bar with modular components. Specify the  side length of {side_length}, and height of {height} for easy customization.\",\n",
        "            \"Create a detailed 3D model for a mechanical mild square bar with intricate mechanisms. Specify the  side length of {side_length}, and height of {height} for accurate representation.\",\n",
        "            \"Develop a mechanical mild square bar with moving cogs and gears. Provide the  side length of {side_length}, and height of {height} for a captivating design.\",\n",
        "            \"Design a precise mechanical mild square bar with exact measurements for the  side length of {side_length}, and height of {height}, ensumild square bar engineemild square bar accuracy.\",\n",
        "            \"Craft a mechanical mild square bar with a minimalist yet functional design. Specify the  side length of {side_length}, and height of {height} for a sleek and modern look.\",\n",
        "            \"Create a mechanical mild square bar inspired by industrial aesthetics. Provide the  side length of {side_length}, and height of {height} for an edgy and stylish design.\",\n",
        "            \"Craft a mechanical mild square bar with a locking mechanism. Specify the  side length of {side_length}, and height of {height} for added security and uniqueness.\",\n",
        "            \"Develop a customizable mechanical mild square bar with placeholders for side length {side_length}, and height {height} , allowing users to personalize the design.\",\n",
        "            \"Create a mechanical mild square bar prototype with precise dimensions, including side length {side_length}, and height {height}, for testing and optimization.\",\n",
        "            \"Design an elegant mechanical mild square bar with intricate details. Specify the  side length of {side_length}, and height of {height} for a sophisticated and functional accessory.\",\n",
        "            \"Craft a sleek mechanical mild square bar with specified side length {side_length}, and height {height} for a minimalist yet stylish design.\",\n",
        "            \"Design a mechanical mild square bar with precise dimensions. Specify the  side length of {side_length}, and height of {height} for a clean and modern look.\",\n",
        "            \"Create a 3D model for a mechanical mild square bar, emphasizing exact  side length {side_length}  measurements along with the height of {height} for simplicity and accuracy.\",\n",
        "            \"Develop a mechanical mild square bar with a symmetrical design. Share the  side length of {side_length}, and height of {height} for a balanced and refined accessory.\",\n",
        "            \"Craft a mechanical mild square bar with a geometric twist. Specify the  side length of {side_length}, and height of {height} to create an intriguing and straightforward design.\",\n",
        "            \"Design a precision-engineered mechanical mild square bar with specified dimensions. Specify the  side length of {side_length}, and height of {height} for functionality and simplicity.\",\n",
        "            \"Create a customizable mechanical mild square bar with Specify the  side length of {side_length}, and height of {height} to allow for personalization within defined parameters.\",\n",
        "            \"Develop a mechanical mild square bar prototype with specific dimensions, including side length {side_length} , and height {height}, for testing and refinement.\",\n",
        "            \"Craft an innovative mechanical mild square bar with an  an side length of {side_length}, and a height of {height} designed for both style and functionality.\",\n",
        "            \"Design a mechanical mild square bar with modular components. Specify the  side length of {side_length}, and height of {height} for easy customization.\",\n",
        "            \"Create a detailed 3D model for a mechanical mild square bar with intricate mechanisms. Specify the  side length of {side_length}, and height of {height} for accurate representation.\",\n",
        "            \"Develop a mechanical mild square bar with moving cogs and gears. Provide the  side length of {side_length}, and height of {height} for a captivating design.\",\n",
        "            \"Design a precise mechanical mild square bar with exact measurements for the  side length of {side_length}, and height of {height}, ensumild square bar engineemild square bar accuracy.\",\n",
        "            \"Craft a mechanical mild square bar with a minimalist yet functional design. Specify the  side length of {side_length}, and height of {height} for a sleek and modern look.\",\n",
        "            \"Create a mechanical mild square bar inspired by industrial aesthetics. Provide the  side length of {side_length}, and height of {height} for an edgy and stylish design.\",\n",
        "            \"Craft a mechanical mild square bar with a locking mechanism. Specify the  side length of {side_length}, and height of {height} for added security and uniqueness.\",\n",
        "            \"Develop a customizable mechanical mild square bar with placeholders for side length {side_length}, and height {height} , allowing users to personalize the design.\",\n",
        "            \"Create a mechanical mild square bar prototype with precise dimensions, including side length {side_length}, and height {height}, for testing and optimization.\",\n",
        "            \"Design an elegant mechanical mild square bar with intricate details. Specify the  side length of {side_length}, and height of {height} for a sophisticated and functional accessory.\",\n",
        "            \"Craft a sleek mechanical mild square bar with specified side length {side_length}, and height {height} for a minimalist yet stylish design.\",\n",
        "            \"Design a mechanical mild square bar with precise dimensions. Specify the  side length of {side_length}, and height of {height} for a clean and modern look.\",\n",
        "            \"Create a 3D model for a mechanical mild square bar, emphasizing exact  side length {side_length}  measurements along with the height of {height} for simplicity and accuracy.\",\n",
        "            \"Develop a mechanical mild square bar with a symmetrical design. Share the  side length of {side_length}, and height of {height} for a balanced and refined accessory.\",\n",
        "            \"Craft a mechanical mild square bar with a geometric twist. Specify the  side length of {side_length}, and height of {height} to create an intriguing and straightforward design.\",\n",
        "            \"Design a precision-engineered mechanical mild square bar with specified dimensions. Specify the  side length of {side_length}, and height of {height} for functionality and simplicity.\",\n",
        "            \"Create a customizable mechanical mild square bar with Specify the  side length of {side_length}, and height of {height} to allow for personalization within defined parameters.\",\n",
        "            \"Develop a mechanical mild square bar prototype with specific dimensions, including side length {side_length} , and height {height}, for testing and refinement.\"\n",
        "        ]\n",
        "bar_design += [\n",
        "            \"Design a customizable mechanical mild square bar with placeholders. Allowing wearers to tailor the design to their preferences by specifying the  side length of {side_length}, and height of {height}.\",\n",
        "            \"Craft a mechanical mild square bar with specific creation of a classic and timeless accessory by specifying the  side length of {side_length}, and height of {height}.\",\n",
        "            \"Create a 3D model for a precision-engineered mechanical mild square bar, specifying the  side length of {side_length}, and height of {height} for a streamlined look.\",\n",
        "            \"Design a mechanical mild square bar  side length {side_length} , and a specified height. Achieve a balanced and harmonious design by specifying the height of {height}.\",\n",
        "            \"Craft a customizable mechanical mild square bar with placeholders. Allow wearers to personalize within defined parameters by specifying the  side length of {side_length}, and height of {height}.\",\n",
        "            \"Develop a mechanical mild square bar with a straightforward design. Create an accessory that combines simplicity with elegance by specifying the  side length of {side_length}, and height of {height}.\",\n",
        "            \"Design a precision-engineered mechanical mild square bar with specified  outer dimensions, emphasizing a clean and polished appearance. Specify the  side length of {side_length}, and height of {height}.\",\n",
        "            \"Craft a sleek mechanical mild square bar with specified creation of a minimalist yet stylish design by specifying the  side length of {side_length}, and height of {height}.\",\n",
        "            \"Design a mechanical mild square bar with precise dimensions. Specify the  side length of {side_length}, and height of {height} for a clean and modern look.\",\n",
        "            \"Create a 3D model for a mechanical mild square bar, emphasizing exact side length {side_length}  measurements along with the height of {height} for simplicity and accuracy.\",\n",
        "            \"Develop a mechanical mild square bar with a symmetrical design. Share the  side length of {side_length}, and height of {height} for a balanced and refined accessory.\",\n",
        "            \"Craft a mechanical mild square bar with a geometric twist. Specify the  side length of {side_length}, and height of {height} to create an intriguing and straightforward design.\",\n",
        "            \"Design a precision-engineered mechanical mild square bar with specified dimensions, focusing on functionality and simplicity. Specify the  side length of {side_length}, and height of {height}.\",\n",
        "            \"Please craft a sleek mechanical mild square bar with specific dimensions for a minimalist yet stylish design. Specify the  side length of {side_length}, and height of {height}.\",\n",
        "            \"I kindly request a mechanical mild square bar design with precise dimensions. Could you specify the  side length of {side_length}, and height of {height} for a clean and modern look?\",\n",
        "            \"Would you please create a 3D model for a mechanical mild square bar, emphasizing exact   side length {side_length}  measurements along with the height of {height} for simplicity and accuracy?\",\n",
        "            \"I would appreciate your expertise in developing a mechanical mild square bar with a symmetrical design. Could you please share the  side length of {side_length}, and height of {height} for a balanced and refined accessory?\",\n",
        "            \"Kindly craft a mechanical mild square bar with a geometric twist. I'd appreciate it if you could specify the  side length of {side_length}, and height of {height} to create an intriguing and straightforward design.\",\n",
        "            \"I kindly request a precision-engineered mechanical mild square bar with specified dimensions, focusing on functionality and simplicity. Specify the  side length of {side_length}, and height of {height}.\",\n",
        "            \"Could you please create a customizable mechanical mild square bar with placeholders for side length{side_length}, and height {height}? This would allow for personalization within defined parameters.\",\n",
        "            \"Your assistance in crafting a mechanical mild square bar with a clean and polished look would be greatly appreciated. Could you specify the  side length of {side_length}, and height of {height} for an accessory that exudes sophistication?\",\n",
        "            \"I would be grateful if you could develop a 3D model for a mechanical mild square bar  side length {side_length} , emphasizing a simple yet timeless design. Specify the height of {height}.\",\n",
        "            \"Kindly design a mechanical mild square bar with specific measurements and height to achieve a harmonious and well-proportioned look. Specify the  side length of {side_length}, and height of {height}.\",\n",
        "            \"Your expertise in crafting a precision mechanical mild square bar with specified specifications for a subtle yet impactful accessory would be greatly valued. Specify the  side length of {side_length}, and height of {height}.\",\n",
        "            \"I appreciate your skill in creating a mechanical mild square bar with concentric circles. Could you please share the  side length of {side_length}, and height of {height} for a visually striking and straightforward design?\",\n",
        "            \"Could you please develop a 3D model for a mechanical mild square bar with  outer {side_length} dimensions? Specifying the height of {height} for a sleek and uniform appearance would be greatly appreciated.\",\n",
        "            \"I kindly request a design for a customizable mechanical mild square bar with placeholders for some values, allowing wearers to tailor the design to their preferences. Specify the  side length of {side_length}, and height of {height}.\",\n",
        "            \"Would you please craft a mechanical mild square bar with specific  side length of {side_length}, and height of {height} for a classic and timeless accessory?\",\n",
        "            \"I appreciate your expertise in developing a 3D model for a precision-engineered mechanical mild square bar. Focusing on exact   side length of {side_length} dimensions and height of {height} for a streamlined look would be fantastic.\",\n",
        "            \"Could you please design a mechanical mild square bar with equal  side length of {side_length}, and a specified height of {height}, for a balanced and harmonious appearance?\",\n",
        "            \"I kindly request a customizable mechanical mild square bar with placeholders for dimensions, allowing wearers to personalize within defined parameters. Specify the  side length of {side_length}, and height of {height}.\",\n",
        "            \"Your assistance in developing a mechanical mild square bar with a straightforward design is appreciated. Could you please specify the  side length of {side_length}, and height of {height} for an accessory that combines simplicity with elegance?\",\n",
        "            \"I would be grateful if you could design a precision-engineered mechanical mild square bar with specified  side length of {side_length}, and height of {height}, emphasizing a clean and polished appearance.\",\n",
        "            \"Please design a sleek mechanical mild square bar with specific  side length of {side_length}, and height of {height}.\",\n",
        "            \"Craft a modern mechanical mild square bar with precise  side length of {side_length}, and dimensions. Could you provide the details for the height?\",\n",
        "            \"Could you create a 3D model for a mechanical mild square bar with exact  side length of {side_length}, and height of {height}?\",\n",
        "            \"Design a symmetrical mechanical mild square bar, specifying  side length of {side_length}, and height of {height}. Thank you.\",\n",
        "            \"Craft a geometric mechanical mild square bar. Please share the  side length of {side_length}, and height of {height}.\",\n",
        "            \"Develop a precision mechanical mild square bar with placeholders for customization. Specify the  side length of {side_length}, and height of {height}, please.\",\n",
        "            \"Design a polished mechanical mild square bar. Specify  side length of {side_length}, and height of {height} for sophistication.\",\n",
        "            \"Create a 3D model for a mechanical mild square bar with equal dimensions. Share  side length of {side_length}, and height of {height}.\",\n",
        "            \"Craft a timeless mechanical mild square bar. Specify  side length of {side_length}, and height of {height} for balance.\",\n",
        "            \"Could you design a streamlined mechanical mild square bar?  side length of {side_length}, and height of {height} details appreciated.\",\n",
        "            \"Craft a mechanical mild square bar with dimensions as follows:  side length of {side_length}, and height of {height}.\",\n",
        "            \"Design a precise mechanical mild square bar. Please provide  side length of {side_length}, and height of {height}.\",\n",
        "            \"Create a 3D model for a mechanical mild square bar. Specify exact side length {side_length} measurements along with the height of {height}.\",\n",
        "            \"Develop a symmetrical mechanical mild square bar with the following dimensions:  side length of {side_length}, and height of {height}.\",\n",
        "            \"Craft a geometric mechanical mild square bar. Share specific values for  side length of {side_length}, and height of {height}.\",\n",
        "            \"Design a customizable mechanical mild square bar. Need placeholders for measurements. Specify  side length of {side_length}, and height of {height}.\",\n",
        "            \"Create a polished mechanical mild square bar. Specify  side length of {side_length}, and height of {height} for refinement.\",\n",
        "            \"Craft a streamlined mechanical mild square bar. Provide exact values for  side length of {side_length}, and height of {height}.\",\n",
        "            \"Design a balanced mechanical mild square bar. Please share specific  side length of {side_length}, and height of {height}.\",\n",
        "            \"Could you create a mechanical mild square bar with the following dimensions:  side length of {side_length}, and height of {height}?\"\n",
        "        ]\n",
        "bar_design += [\n",
        "            \"Mechanical mild square bar,  side length of {side_length}, and height of {height}?\",\n",
        "            \"Craft a mild square bar with specific  side length of {side_length}, and height of {height}.\",\n",
        "            \"3D model: mild square bar, side length {side_length}, height {height}.\",\n",
        "            \"Symmetrical mild square bar, side length {side_length}, height {height}?\",\n",
        "            \"Geometric mild square bar, side length {side_length}, height {height}.\",\n",
        "            \"Polished mild square bar, side length {side_length}, height {height}.\",\n",
        "            \"Streamlined mild square bar, side length {side_length}, height {height}.\",\n",
        "            \"Balanced mild square bar, side length {side_length}, and height {height}?\",\n",
        "            \"Customizable mild square bar, side length {side_length}, and height {height}?\",\n",
        "            \"Specify values: mild square bar, side length {side_length}, and height {height}.\",\n",
        "            \"Hey Tala, got a quick favor – I'm working on a 3D mild square bar model. Please draw me it with  side length of {side_length}, and height of {height}.\",\n",
        "            \"Quick request: I'm onto a 3D mild square bar project. Draw it with  side length of {side_length}, and height of {height}?\",\n",
        "            \"Hey Joud, need your help on a 3D mild square bar I'm designing. With  side length of {side_length}, and height of {height}?\",\n",
        "            \"Craft a mechanical mild square bar with a harmonious balance in shape. Please share your vision for the side length of {side_length},  and height of {height}.\",\n",
        "            \"Create a mild square bar with a distinctive silhouette – specific side length of {side_length},  and height of {height} dimensions are up to your creative interpretation.\",\n",
        "            \"Can you design a mechanical mild square bar with a unique shape? Consider the side length of {side_length},  and height of {height} in bmild square baring this concept to life.\",\n",
        "            \"Shape a mild square bar with a specific side length of {side_length},  and height of {height}, emphasizing an unconventional and eye-catching design.\",\n",
        "            \"Explore the contours of a mechanical mild square bar's shape, considemild square bar the side length of {side_length},  and height of {height} in your creative process.\",\n",
        "            \"Craft a symmetrical mild square bar with a focus on shape. Share your thoughts on the side length of {side_length},  and height of {height} for this design.\",\n",
        "            \"Design a geometrically inspired mild square bar, paying attention to the shape. How would you envision the side length of {side_length},  and height of {height}?\",\n",
        "            \"Shape a polished mild square bar with distinctive contours. Your insights on the side length of {side_length},  and height of {height} will shape its elegance.\",\n",
        "            \"Create a streamlined mild square bar with a unique shape. Consider the side length of {side_length},  and height of {height} for a sleek and modern appearance.\",\n",
        "            \"Craft a balanced mild square bar with a distinctive shape. Your creative input on the side length of {side_length},  and height of {height} will define its character.\",\n",
        "            \"Design a customizable mild square bar with emphasis on shape. How would you approach the side length of {side_length},  and height of {height} for personalized style?\",\n",
        "            \"Shape a mild square bar with specific values in mind: side length of {side_length},  and height of {height}. Your artistic vision will guide this project.\",\n",
        "            \"Hi, please design a unique model for a mild square bar with side length of {side_length},  and height of {height}.\",\n",
        "            \"Hi there! Could you create a stunning mild square bar model with side length {side_length}, and height of {height}?\",\n",
        "            \"Hello! I'd love a customized mild square bar model. Could you work on the side length {side_length}, and height of {height} dimensions?\",\n",
        "            \"Hi! Seeking a personalized touch. Please craft a mild square bar model with specified side length of {side_length},  and height of {height} values.\",\n",
        "            \"Hello, please design a mild square bar model with a focus on side length {side_length}, and height of {height} dimensions.\",\n",
        "            \"Hi! Looking for a special mild square bar model. Could you consider the side length {side_length}, and height of {height} in your design?\",\n",
        "            \"Hello, could you create a model for a mild square bar? I'm interested in the side length {side_length}, and height of {height} specifics.\",\n",
        "            \"Hi there! Seeking a unique mild square bar model. Please incorporate specified side length of {side_length},  and height of {height} dimensions.\",\n",
        "            \"Hello! I'm in need of a mild square bar model. Can you please include side length {side_length} , and height of {height} details in your design?\",\n",
        "            \"Hi, please craft a mild square bar model with attention to side length {side_length}, and height of {height} parameters.\"\n",
        "        ]\n",
        "bar_design += [\n",
        "            \"Hey there! Could you create a super cute mild square bar model for me? Let's go with side length {side_length}, and height of {height} dimensions!\",\n",
        "            \"Hi! I'm on a quest for the most adorable mild square bar model. Can you bmild square bar some cuteness to life with side length {side_length}, and height of {height} details?\",\n",
        "            \"Hey! I'm dreaming of a cute mild square bar model. Any chance you could sprinkle some charm using side length {side_length}, , and height of {height} measurements?\",\n",
        "            \"Hello! Looking for a mild square bar that's as cute as a button. Mind designing one with side length {side_length}, and height of {height} dimensions?\",\n",
        "            \"Hiya! Ready for a cute mild square bar adventure? Let's dive in with side length {side_length}, and height of {height} specs for an extra dose of adorableness!\",\n",
        "            \"Hey friend! Let's create a mild square bar that's cuteness overload. Can you sketch one up with side length {side_length}, and height of {height} details?\",\n",
        "            \"Greetings! In pursuit of perfection, could you meticulously craft a flawless mild square bar model? I'm keen on outer {side_length},  and height of {height} dimensions.\",\n",
        "            \"Hello there! Seeking your expert touch to create a mild square bar model of sheer perfection. Outer {side_length},  and height of {height} details will make it impeccable.\",\n",
        "            \"Good day! With an eye for perfection, could you design an impeccable mild square bar model? Paying close attention to outer {side_length},  and height of {height} dimensions.\",\n",
        "            \"Salutations! I'm on a quest for perfection in a mild square bar model. Your precision with outer {side_length},  and height of {height} details would be truly appreciated.\",\n",
        "            \"Hi! In the pursuit of perfection, I'd be delighted if you could fashion a mild square bar model with exquisite outer {side_length},  and height of {height} specifications.\",\n",
        "            \"Greetings! As we strive for perfection, could you please create an impeccable mild square bar model? The specifics I'm looking for include outer {side_length},  and height of {height}.\",\n",
        "            \"Hello! With perfection in mind, I'd love your expertise in crafting a flawless mild square bar model. side length {side_length} , and height of {height} dimensions are key.\",\n",
        "            \"Good day! Seeking the touch of perfection for a mild square bar model. Your attention to side length {side_length} ,  and height of {height} details will undoubtedly elevate its beauty.\",\n",
        "            \"Salutations! In the pursuit of perfection, your design prowess would be greatly valued for a mild square bar model. Outer {side_length}, and height of {height} precision, please.\",\n",
        "            \"Hi there! With an emphasis on perfection, could you lend your skills to create a flawless mild square bar model? The outer {side_length}, , and height of {height} dimensions are key.\",\n",
        "            \"I need a mild square bar model with precise side length  {side_length} ,  and height of {height} dimensions. No room for error, please.\",\n",
        "            \"Craft a mild square bar model with exact side length  {side_length} , and height of {height} specifications. I expect accuracy.\",\n",
        "            \"Design a flawless mild square bar model. side length {side_length}, and height of {height} details should be spot-on.\",\n",
        "            \"I require a mild square bar model designed with absolute precision. Provide exact  side length {side_length} , and height of {height} measurements.\",\n",
        "            \"No compromises. Design a mild square bar model with meticulous attention to side length {side_length} ,  and height of {height} dimensions.\",\n",
        "            \"Precision is key. Create a mild square bar model ensumild square bar perfection in side length {side_length},  and height of {height} specifications.\",\n",
        "            \"Ensure perfection. Design a mild square bar model with meticulous precision in side length {side_length},  and height of {height} dimensions.\",\n",
        "            \"I don't want errors. Create a mild square bar model with precise side length {side_length},  and height of {height} details.\",\n",
        "            \"No room for mistakes. Provide a mild square bar model with exact side length {side_length},  and height of {height} specifications.\",\n",
        "            \"Perfection is the standard. Craft a mild square bar model with flawless side length {side_length},  and height of {height} dimensions.\",\n",
        "            \"Demanding precision. I need a mild square bar model with spot-on side length {side_length},  and height of {height} measurements.\",\n",
        "            \"No compromises on precision. Deliver a mild square bar model with exact side length {side_length},  and height of {height} details.\",\n",
        "            \"Attention to detail is a must. Provide a mild square bar model with impeccable side length {side_length},  and height of {height} specifications.\",\n",
        "            \"I expect perfection. Design a mild square bar model with flawless side length {side_length} , and height of {height} dimensions.\",\n",
        "            \"Precise craftsmanship required. Deliver a mild square bar model with exact side length {side_length} , and height of {height} measurements.\",\n",
        "            \"Strict requirements: Create a mild square bar model with precision in side length {side_length}, and height of {height} details.\",\n",
        "            \"Kindly design a mild square bar model adhemild square bar strictly to the specified side length {side_length} , and height of {height} dimensions.\",\n",
        "            \"I require a mild square bar model crafted with utmost precision. Please ensure strict adherence to side length{side_length} , and height of {height} specifications.\",\n",
        "            \"Your task is to create a mild square bar model with strict attention to detail, following precise side length {side_length}  , and height of {height} dimensions.\",\n",
        "            \"Craft a mild square bar model with strict conformity to the specified side length = {side_length}  , and height of {height} measurements. Precision is non-negotiable.\",\n",
        "            \"I expect a mild square bar model that strictly adheres to the provided side length = {side_length} ,  and height of {height} parameters. No deviations, please.\"\n",
        "        ]\n",
        "bar_design += [\n",
        "            \"In strict accordance with guidelines, produce a mild square bar model with precise side length = {side_length} , and height of {height} specifications.\",\n",
        "            \"Create a mild square bar model with strict attention to detail, ensumild square bar exact adherence to side length {side_length} , and height of {height} dimensions.\",\n",
        "            \"Your assignment is to design a mild square bar model with strict conformity to the provided side length {side_length} , and height of {height} values. Precision is imperative.\",\n",
        "            \"I demand a mild square bar model with strict precision in side length of {side_length},  and height of {height} dimensions. Any deviations will not be tolerated.\",\n",
        "            \"Kindly ensure strict compliance with the side length of {side_length},  and height of {height} specifications when crafting the mild square bar model.\",\n",
        "            \"Design a mild square bar model with meticulous attention to the specified height of {height}, side length of {side_length}, dimensions.\",\n",
        "            \"For this project, I need a mild square bar model crafted with precision, emphasizing the exact height of {height}, side length of {side_length}, specifications.\",\n",
        "            \"Your expertise is required to create a flawless mild square bar model, with particular emphasis on the specified height of {height}, side length of {side_length}, dimensions.\",\n",
        "            \"Craft a mild square bar model with strict conformity to the provided height of {height}, side length of {side_length}, measurements. Precision in height is critical.\",\n",
        "            \"In this assignment, prioritize the design around the specified height of {height}, side length of {side_length}, parameters for an impeccable mild square bar model.\",\n",
        "            \"I insist on a mild square bar model that strictly adheres to the provided height of {height}, side length of {side_length}, parameters. Height precision is non-negotiable.\",\n",
        "            \"Create a mild square bar model with an unwavemild square bar focus on the specified height of {height}, side length of {side_length}, dimensions. Strict adherence to guidelines is expected.\",\n",
        "            \"For this project, your task is to design a mild square bar model with a strict emphasis on the provided height of {height}, side length of {side_length}, guidelines.\",\n",
        "            \"I require a mild square bar model that prioritizes strict precision in height of {height}, side length of {side_length}, dimensions. Any deviations will not be tolerated.\",\n",
        "            \"Kindly ensure strict compliance with the height of {height}, side length of {side_length}, specifications when crafting the mild square bar model for this project.\",\n",
        "            \"Your responsibility is to create a mild square bar model where the emphasis lies on strict adherence to the provided height of {height}, side length of {side_length}, values.\",\n",
        "            \"Craft a mild square bar model with meticulous attention to the specified height of {height}, ensumild square bar exact adherence to the provided side length of {side_length} dimensions. Precision is non-negotiable.\",\n",
        "            \"In this project, I expect a mild square bar model that strictly follows the provided height of {height}, side length of {side_length}, parameters. Height precision is of the utmost importance.\",\n",
        "            \"Your task is to design a mild square bar model with a strict focus on height precision of {height}, adhemild square bar to the provided side length of {side_length} dimensions.\",\n",
        "            \"Create a mild square bar model with strict conformity to the specified height of {height}, side length of {side_length}, values. Deviations in height will not be accepted.\",\n",
        "            \"For this assignment, your task is to design a mild square bar model with strict precision in height of {height}, side length of {side_length}, dimensions. Adherence to guidelines is expected.\",\n",
        "            \"I demand a mild square bar model that strictly adheres to the provided height of {height}, side length of {side_length}, specifications. Height precision is mandatory.\",\n",
        "            \"In strict accordance with the outlined requirements, produce a mild square bar model with precise height of {height}, side length of {side_length}, dimensions.\",\n",
        "            \"Craft a mild square bar model with meticulous attention to height {height} , ensumild square bar exact adherence to the specified side length of {side_length} dimensions. Precision is non-negotiable.\",\n",
        "            \"Your assignment is to create a mild square bar model with strict conformity to the provided height of {height}, side length of {side_length}, values. Height precision is required.\",\n",
        "            \"Design a mild square bar model, focusing primarily on the specified height of {height}, and then adhemild square bar to the provided side length of {side_length} parameters.\",\n",
        "            \"For this task, create a mild square bar model with detailed attention to the specified height of {height}, side length of {side_length}, parameters.\",\n",
        "            \"Your expertise is crucial in crafting a mild square bar model with a heightened emphasis on the specified height of {height}, side length of {side_length}, dimensions.\",\n",
        "            \"Craft a mild square bar model with an unwavemild square bar focus on the specified height of {height}, ensumild square bar precision in the provided side length of {side_length} measurements.\",\n",
        "            \"I insist on a mild square bar model that strictly adheres to the provided height of {height}, ensumild square bar impeccable precision in side length of {side_length} dimensions.\",\n",
        "            \"Create a mild square bar model where the key emphasis is on the specified height of {height}, followed by precision in the provided side length of {side_length} parameters.\",\n",
        "            \"For this assignment, your task is to design a mild square bar model with meticulous attention to height precision of {height}, adhemild square bar to the provided side length of {side_length} dimensions.\",\n",
        "            \"I require a mild square bar model that prioritizes strict compliance with the specified height of {height}, ensumild square bar impeccable precision in side length of {side_length} measurements.\",\n",
        "            \"Craft a mild square bar model with a heightened focus on the specified height of {height}, ensumild square bar strict adherence to the provided side length of {side_length} dimensions.\",\n",
        "            \"Your responsibility is to create a mild square bar model where the central emphasis lies on strict precision in height of {height}, adhemild square bar to the provided side length of {side_length} values.\"\n",
        "        ]\n"
      ],
      "metadata": {
        "id": "yPDv2v-I12Gh"
      },
      "execution_count": null,
      "outputs": []
    },
    {
      "cell_type": "markdown",
      "source": [
        "## length"
      ],
      "metadata": {
        "id": "nEZYwo8t2MTV"
      }
    },
    {
      "cell_type": "code",
      "source": [
        "size = len(bar_design)\n",
        "print(size)"
      ],
      "metadata": {
        "colab": {
          "base_uri": "https://localhost:8080/"
        },
        "id": "o5dPJlcS2OlR",
        "outputId": "fb4a1d86-d944-4d62-a5d7-a56b2320d393"
      },
      "execution_count": null,
      "outputs": [
        {
          "output_type": "stream",
          "name": "stdout",
          "text": [
            "3\n"
          ]
        }
      ]
    },
    {
      "cell_type": "markdown",
      "source": [
        "# code"
      ],
      "metadata": {
        "id": "TVc8q0nz1w3i"
      }
    },
    {
      "cell_type": "markdown",
      "source": [
        "## libraries"
      ],
      "metadata": {
        "id": "RIA_jYp228BZ"
      }
    },
    {
      "cell_type": "code",
      "source": [
        "import json\n",
        "import random\n",
        "import math\n",
        "from pydrive.auth import GoogleAuth\n",
        "from pydrive.drive import GoogleDrive\n",
        "\n",
        "from google.colab import files"
      ],
      "metadata": {
        "id": "ARv3lRmK29fj",
        "colab": {
          "base_uri": "https://localhost:8080/"
        },
        "outputId": "60827041-7963-42a1-d976-c489c8cf77ad"
      },
      "execution_count": null,
      "outputs": [
        {
          "output_type": "stream",
          "name": "stderr",
          "text": [
            "WARNING:root:pydrive is deprecated and no longer maintained. We recommend that you migrate your projects to pydrive2, the maintained fork of pydrive\n"
          ]
        }
      ]
    },
    {
      "cell_type": "code",
      "source": [
        "for i in range(len(bar_design)):\n",
        "    # Replace 'diameter' with 'radius' in the current element\n",
        "    bar_design[i] = bar_design[i].replace('radius','diameter' )\n",
        "    bar_design[i] = bar_design[i].replace('rad','diameter' )\n"
      ],
      "metadata": {
        "id": "LqvnQ2YsKTpW"
      },
      "execution_count": null,
      "outputs": []
    },
    {
      "cell_type": "code",
      "source": [
        "bar_design[0]"
      ],
      "metadata": {
        "colab": {
          "base_uri": "https://localhost:8080/",
          "height": 36
        },
        "id": "uovWI6xaKeEe",
        "outputId": "8dd04d12-7055-4225-d297-95616d512386"
      },
      "execution_count": null,
      "outputs": [
        {
          "output_type": "execute_result",
          "data": {
            "text/plain": [
              "'Draw a 3D model for a mild square bar with an side length of {side_length},  and a height of {height}.'"
            ],
            "application/vnd.google.colaboratory.intrinsic+json": {
              "type": "string"
            }
          },
          "metadata": {},
          "execution_count": 7
        }
      ]
    },
    {
      "cell_type": "code",
      "source": [
        "for i in range(len(bar_design)):\n",
        "\n",
        "    bar_design[i] = bar_design[i].replace('outer diameter','side_length' )\n",
        "    bar_design[i] = bar_design[i].replace('outer_diameter','side_length' )\n"
      ],
      "metadata": {
        "id": "ORPU5X95fCjW"
      },
      "execution_count": null,
      "outputs": []
    },
    {
      "cell_type": "markdown",
      "source": [
        "## itterations"
      ],
      "metadata": {
        "id": "HB-D8fft3FMK"
      }
    },
    {
      "cell_type": "code",
      "source": [
        "num_iterations = 1"
      ],
      "metadata": {
        "id": "wtB2Z3zd3G5q"
      },
      "execution_count": null,
      "outputs": []
    },
    {
      "cell_type": "code",
      "source": [
        "filled_ring_design_strings = []"
      ],
      "metadata": {
        "id": "VIh9X1HiQ-_z"
      },
      "execution_count": null,
      "outputs": []
    },
    {
      "cell_type": "code",
      "source": [
        "# Open the file in append mode\n",
        "with open('/content/drive/MyDrive/project/FunctionCALLfalcondata.json', 'a') as file:\n",
        "    # Iterate over each design string in the bar_design list\n",
        "    for design_string in bar_design:\n",
        "        # Iterate for the specified number of iterations\n",
        "        for i in range(num_iterations):\n",
        "            # Generate a random side length between 3 and 10, rounded to 2 decimal places\n",
        "            side_length = round(random.uniform(3, 10), 2)\n",
        "            # Generate a random height greater than side length + 2 and up to 500, rounded to 2 decimal places\n",
        "            height = round(random.uniform(side_length + 2, 500), 2)\n",
        "            # Calculate the area of the square profile, rounded to 2 decimal places\n",
        "            area_profile1 = round(side_length * side_length, 2)\n",
        "            # Calculate the perimeter of the square profile, rounded to 2 decimal places\n",
        "            perimeter_profile1 = round(side_length * 4, 2)\n",
        "\n",
        "            # Fill the design string with the generated values\n",
        "            filled_design_string = design_string.format(height=height, side_length=side_length)\n",
        "            # Create the response string with the generated values\n",
        "            respons = f\"Generate_file(shape = 'mild square bar' , height = {height} , side_length = {side_length} , bar_area = {area_profile1} , bar_perimeter = {perimeter_profile1})\"\n",
        "            # Format the data to be written to the file\n",
        "            formatted_data = f'{{\"text\": \"### user_promt:{filled_design_string} ### Assistant: {respons}\"}}'\n",
        "            # Print the formatted data to the console (optional)\n",
        "            print(formatted_data)\n",
        "\n",
        "            # Write the formatted data to the file\n",
        "            file.write(formatted_data + '\\n')\n"
      ],
      "metadata": {
        "colab": {
          "base_uri": "https://localhost:8080/"
        },
        "id": "c6AL_vpnNkCP",
        "outputId": "e0cc952d-4c16-4794-bf61-068fb3936dc3"
      },
      "execution_count": null,
      "outputs": [
        {
          "output_type": "stream",
          "name": "stdout",
          "text": [
            "{\"text\": \"### user_promt:Draw a 3D model for a mild square bar with an side length of 7.2,  and a height of 468.11. ### Assistant: Generate_file(shape = 'mild square bar' , height = 468.11 , side_length = 7.2 , bar_area = 51.84 , bar_perimeter = 28.8)\"}\n",
            "{\"text\": \"### user_promt:I want a mild square bar with an side length of 7.57,  and a height of 12.65. ### Assistant: Generate_file(shape = 'mild square bar' , height = 12.65 , side_length = 7.57 , bar_area = 57.3 , bar_perimeter = 30.28)\"}\n",
            "{\"text\": \"### user_promt:Design a mild square bar with an side length of 3.73,  and a height of 400.24. ### Assistant: Generate_file(shape = 'mild square bar' , height = 400.24 , side_length = 3.73 , bar_area = 13.91 , bar_perimeter = 14.92)\"}\n"
          ]
        }
      ]
    }
  ]
}